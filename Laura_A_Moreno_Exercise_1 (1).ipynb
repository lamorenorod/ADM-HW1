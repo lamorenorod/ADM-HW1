{
 "cells": [
  {
   "cell_type": "markdown",
   "id": "3ef0e88e-8d12-45af-9ce9-c39a0bb0e4e9",
   "metadata": {},
   "source": [
    "# Laura_Alejandra_Moreno_Rodriguez_Exercise_1\n",
    "\n"
   ]
  },
  {
   "cell_type": "markdown",
   "id": "c396a2f0-944a-4992-8815-3e02e32ec380",
   "metadata": {},
   "source": [
    "## **Introduction** Total 7"
   ]
  },
  {
   "cell_type": "markdown",
   "id": "b18114a9-77e0-4985-8114-6093319c45ad",
   "metadata": {},
   "source": [
    "### 1. Say \"Hello, World!\" With Python"
   ]
  },
  {
   "cell_type": "code",
   "execution_count": 12,
   "id": "8727cde9-a3fd-466c-b648-50ba30be8617",
   "metadata": {},
   "outputs": [
    {
     "name": "stdout",
     "output_type": "stream",
     "text": [
      "Hello, World!\n"
     ]
    }
   ],
   "source": [
    "#Say \"Hello, World!\" With Python _LAMR\n",
    "if __name__ == '__main__':\n",
    "    print(\"Hello, World!\")"
   ]
  },
  {
   "cell_type": "markdown",
   "id": "d4655028-628c-47e0-a536-037b2649f415",
   "metadata": {},
   "source": [
    "### 2. Python If-Else"
   ]
  },
  {
   "cell_type": "code",
   "execution_count": 18,
   "id": "46f9702a-a207-4f25-9f23-6891d5f2f417",
   "metadata": {},
   "outputs": [
    {
     "name": "stdin",
     "output_type": "stream",
     "text": [
      " 38\n"
     ]
    },
    {
     "name": "stdout",
     "output_type": "stream",
     "text": [
      "Not Weird\n"
     ]
    }
   ],
   "source": [
    "# Python If-Else _LAMR\n",
    "import math\n",
    "import os\n",
    "import random\n",
    "import re\n",
    "import sys\n",
    "\n",
    "if __name__ == '__main__':\n",
    "    n = int(input().strip())\n",
    "    if n % 2==1: \n",
    "        print(\"Weird\") #n is odd\n",
    "    else:  #n is not odd. It's even.\n",
    "        if 2<= n <=5:\n",
    "            print(\"Not Weird\")\n",
    "        elif 6<= n <=20:\n",
    "            print(\"Weird\")\n",
    "        else:\n",
    "            print(\"Not Weird\")"
   ]
  },
  {
   "cell_type": "markdown",
   "id": "7667c16f-c643-4d0e-ab07-d0a2ca36baec",
   "metadata": {},
   "source": [
    "### 3. Arithmetic Operators"
   ]
  },
  {
   "cell_type": "code",
   "execution_count": 9,
   "id": "d9090b1d-ab61-4cd2-a6c0-ab623ed7c4f4",
   "metadata": {},
   "outputs": [
    {
     "name": "stdin",
     "output_type": "stream",
     "text": [
      " 2\n",
      " 3\n"
     ]
    },
    {
     "name": "stdout",
     "output_type": "stream",
     "text": [
      "5\n",
      "-1\n",
      "6\n"
     ]
    }
   ],
   "source": [
    "#Arithmetic Operators _LAMR\n",
    "a = int(input())\n",
    "    b = int(input())\n",
    "    print(a+b) #addition\n",
    "    print(a-b)  #diference\n",
    "    print(a*b)  #product\n"
   ]
  },
  {
   "cell_type": "markdown",
   "id": "cda1c2eb-0453-4c4a-948a-905ed8b2ab26",
   "metadata": {},
   "source": [
    "### 4. Python: Division"
   ]
  },
  {
   "cell_type": "code",
   "execution_count": 21,
   "id": "2ad47d84-339d-45ff-bac6-a3033741efc8",
   "metadata": {},
   "outputs": [
    {
     "name": "stdin",
     "output_type": "stream",
     "text": [
      " 3\n",
      " 5\n"
     ]
    },
    {
     "name": "stdout",
     "output_type": "stream",
     "text": [
      "0\n",
      "0.6\n"
     ]
    }
   ],
   "source": [
    "#Python: Division_lAMR\n",
    "a = int(input())\n",
    "b = int(input())\n",
    "print(a//b) #integer division\n",
    "print(a/b) #float division"
   ]
  },
  {
   "cell_type": "markdown",
   "id": "7ba26985-fb22-46de-a486-c68790efbf3c",
   "metadata": {},
   "source": [
    "### 5. Loops"
   ]
  },
  {
   "cell_type": "code",
   "execution_count": 36,
   "id": "6b7af510-9257-4df9-bdef-2448648ec0a5",
   "metadata": {},
   "outputs": [
    {
     "name": "stdin",
     "output_type": "stream",
     "text": [
      " 5\n"
     ]
    },
    {
     "name": "stdout",
     "output_type": "stream",
     "text": [
      "0\n",
      "1\n",
      "4\n",
      "9\n",
      "16\n"
     ]
    }
   ],
   "source": [
    "#Loops_LAMR\n",
    "n = int(input())\n",
    "for i in range(n):\n",
    "    print((i**2)) \n"
   ]
  },
  {
   "cell_type": "markdown",
   "id": "13469550-6490-44b8-87dc-f170b788ea52",
   "metadata": {},
   "source": [
    "### 6. Write a function: leap year"
   ]
  },
  {
   "cell_type": "code",
   "execution_count": 50,
   "id": "548ca606-bea5-4467-b4ab-08429c226a88",
   "metadata": {},
   "outputs": [
    {
     "name": "stdin",
     "output_type": "stream",
     "text": [
      " 2000\n"
     ]
    },
    {
     "name": "stdout",
     "output_type": "stream",
     "text": [
      "True\n"
     ]
    }
   ],
   "source": [
    "#Write a function_LAMR\n",
    "#Leaf year\n",
    "def is_leap(year):\n",
    "    leap = False\n",
    "    \n",
    "    # Write your logic here\n",
    "    if year % 4 == 0:\n",
    "        if year % 100 == 0:\n",
    "            if year % 400 ==0:\n",
    "                leap = True\n",
    "            else:\n",
    "                leap =False\n",
    "        else:\n",
    "            leap = True\n",
    "    else:\n",
    "        leap =False\n",
    "    \n",
    "    return leap\n",
    "\n",
    "year = int(input())\n",
    "print(is_leap(year))"
   ]
  },
  {
   "cell_type": "markdown",
   "id": "8e104275-84ff-485c-a046-020dbe8cc287",
   "metadata": {},
   "source": [
    "### 7. Print function"
   ]
  },
  {
   "cell_type": "code",
   "execution_count": 61,
   "id": "03504306-86d1-49da-9637-da597078c7c4",
   "metadata": {},
   "outputs": [
    {
     "name": "stdin",
     "output_type": "stream",
     "text": [
      " 5\n"
     ]
    },
    {
     "name": "stdout",
     "output_type": "stream",
     "text": [
      "12345\n"
     ]
    }
   ],
   "source": [
    "#Print Function_LAMR\n",
    "def print_numbers_as_string(n):\n",
    "    result = ''  \n",
    "    for i in range(1, n + 1):  \n",
    "        result += str(i)  \n",
    "    print(result)  \n",
    "\n",
    "# Read input \n",
    "n = int(input())\n",
    "print_numbers_as_string(n)"
   ]
  },
  {
   "cell_type": "markdown",
   "id": "023c7bae-95ce-4602-8343-47a4b19063b0",
   "metadata": {},
   "source": [
    "## **Basic Data Types** Total 6\n"
   ]
  },
  {
   "cell_type": "markdown",
   "id": "818687f2-47c1-4408-a2d1-95db44cd5e50",
   "metadata": {},
   "source": [
    "### 1. List Comprehension"
   ]
  },
  {
   "cell_type": "code",
   "execution_count": 7,
   "id": "5f8d677e-5a2b-425f-9b4d-f4239350dc67",
   "metadata": {},
   "outputs": [
    {
     "name": "stdin",
     "output_type": "stream",
     "text": [
      " 1\n",
      " 1\n",
      " 2\n",
      " 3\n"
     ]
    },
    {
     "name": "stdout",
     "output_type": "stream",
     "text": [
      "[[0, 0, 0], [0, 0, 1], [0, 0, 2], [0, 1, 0], [0, 1, 1], [1, 0, 0], [1, 0, 1], [1, 1, 0], [1, 1, 2]]\n"
     ]
    }
   ],
   "source": [
    "#List Comprehensions_LAMR\n",
    "x = int(input())\n",
    "y = int(input())\n",
    "z = int(input())\n",
    "n = int(input())\n",
    "coordinates = [[i, j, k] for i in range(x + 1)\n",
    "               for j in range(y + 1) \n",
    "               for k in range(z + 1) \n",
    "               if i + j + k != n]\n",
    "\n",
    "\n",
    "print(coordinates)"
   ]
  },
  {
   "cell_type": "markdown",
   "id": "ca590161-8e7f-4562-bfbd-cbf43171b89b",
   "metadata": {},
   "source": [
    "### 2. Find the Runner-Up Score!"
   ]
  },
  {
   "cell_type": "code",
   "execution_count": 3,
   "id": "baae918a-6edd-4168-934b-26c9ac94cf4a",
   "metadata": {},
   "outputs": [
    {
     "name": "stdin",
     "output_type": "stream",
     "text": [
      " 5\n",
      " 2 3 6 6 5\n"
     ]
    },
    {
     "name": "stdout",
     "output_type": "stream",
     "text": [
      "5\n"
     ]
    }
   ],
   "source": [
    "#Find the Runner-Up Score!_LAMR\n",
    "if __name__ == '__main__':\n",
    "    n = int(input())\n",
    "    arr = map(int, input().split())\n",
    "\n",
    "    run = list(dict.fromkeys(arr))  #function\n",
    "    run.sort()\n",
    "    print(run[-2])"
   ]
  },
  {
   "cell_type": "markdown",
   "id": "a033ca75-f40a-4bdb-be09-621a83f833d0",
   "metadata": {},
   "source": [
    "### 3. Nested Lists"
   ]
  },
  {
   "cell_type": "code",
   "execution_count": 13,
   "id": "bf379f01-7631-47bf-a3ff-3008be7f3954",
   "metadata": {},
   "outputs": [
    {
     "name": "stdin",
     "output_type": "stream",
     "text": [
      " 5\n",
      " Harry\n",
      " 37.21\n",
      " Berry\n",
      " 37.21\n",
      " Tina\n",
      " 27.2\n",
      " Akriti\n",
      " 41\n",
      " Harsh\n",
      " 39\n"
     ]
    },
    {
     "name": "stdout",
     "output_type": "stream",
     "text": [
      "Berry\n",
      "Harry\n"
     ]
    }
   ],
   "source": [
    "#Nested Lists_LAMR\n",
    "if __name__ == '__main__':\n",
    "    num_students = int(input())\n",
    "    students_scores = []\n",
    "\n",
    "    for _ in range(num_students):\n",
    "        name = input()\n",
    "        score = float(input())\n",
    "        students_scores.append([name, score])\n",
    "\n",
    "    unique_scores = sorted(set(score for _, score in students_scores))\n",
    "\n",
    "    if len(unique_scores) > 1:\n",
    "        second_lowest_score = unique_scores[1]\n",
    "        second_lowest_students = sorted(name for name, score in students_scores if score == second_lowest_score)\n",
    "\n",
    "        for name in second_lowest_students:\n",
    "            print(name)\n",
    "    else:\n",
    "        print(\"Missing scores to determine second lowest.\")\n"
   ]
  },
  {
   "cell_type": "markdown",
   "id": "3fbe8d99-c235-4525-9ef4-bf9c3bae196d",
   "metadata": {},
   "source": [
    "### 4. Finding the percentaje"
   ]
  },
  {
   "cell_type": "code",
   "execution_count": 21,
   "id": "90170c39-74ed-4ffb-8ab6-8a8ed176bdd6",
   "metadata": {},
   "outputs": [
    {
     "name": "stdin",
     "output_type": "stream",
     "text": [
      " 2\n",
      " Harsh 25 26.5 28\n",
      " Anurag 26 28 30\n",
      " Harsh\n"
     ]
    },
    {
     "name": "stdout",
     "output_type": "stream",
     "text": [
      "26.50\n"
     ]
    }
   ],
   "source": [
    "#Finding the percentaje_LAMR\n",
    "\n",
    "if __name__ == '__main__':\n",
    "    n = int(input())\n",
    "    student_marks = {}\n",
    "    for _ in range(n):\n",
    "        name, *line = input().split()\n",
    "        scores = list(map(float, line))\n",
    "        student_marks[name] = scores\n",
    "    query_name = input()\n",
    "    \n",
    "    print(\"%.2f\" % (sum(student_marks[query_name]) / len(student_marks[query_name])))"
   ]
  },
  {
   "cell_type": "markdown",
   "id": "66dc485b-03ef-4468-ac89-fc4a14bb2cc9",
   "metadata": {},
   "source": [
    "### 5. Lists"
   ]
  },
  {
   "cell_type": "code",
   "execution_count": 1,
   "id": "400ac33a-9857-483b-93ae-ce8875bc588f",
   "metadata": {},
   "outputs": [
    {
     "name": "stdin",
     "output_type": "stream",
     "text": [
      " 12\n",
      " insert 0 5\n",
      " insert 1 10\n",
      " insert 0 6\n",
      " print\n"
     ]
    },
    {
     "name": "stdout",
     "output_type": "stream",
     "text": [
      "[6, 5, 10]\n"
     ]
    },
    {
     "name": "stdin",
     "output_type": "stream",
     "text": [
      " remove 6\n",
      " append 9\n",
      " append 1\n",
      " sort\n",
      " print\n"
     ]
    },
    {
     "name": "stdout",
     "output_type": "stream",
     "text": [
      "[1, 5, 9, 10]\n"
     ]
    },
    {
     "name": "stdin",
     "output_type": "stream",
     "text": [
      " pop\n",
      " reverse\n",
      " print\n"
     ]
    },
    {
     "name": "stdout",
     "output_type": "stream",
     "text": [
      "[9, 5, 1]\n"
     ]
    }
   ],
   "source": [
    "#Lists_LAMR\n",
    "if __name__ == '__main__':\n",
    "    N = int(input())\n",
    "    \n",
    "    \n",
    "    list_commands = {\n",
    "        \"insert\": lambda i, e: l.insert(i, e),\n",
    "        \"print\": lambda: print(l),\n",
    "        \"remove\": lambda e: l.remove(e),\n",
    "        \"append\": lambda e: l.append(e),\n",
    "        \"sort\": lambda: l.sort(),\n",
    "        \"pop\": lambda: l.pop(),\n",
    "        \"reverse\": lambda: l.reverse()\n",
    "    }\n",
    "\n",
    "    l = []\n",
    "    \n",
    "    for _ in range(N):\n",
    "        command, *args = input().split()\n",
    "        if command in list_commands:\n",
    "            list_commands[command](*map(int, args))"
   ]
  },
  {
   "cell_type": "markdown",
   "id": "0cc7b77d-f7a0-4a55-a74e-04d536c66d0a",
   "metadata": {},
   "source": [
    "### 6. Tuples"
   ]
  },
  {
   "cell_type": "code",
   "execution_count": 31,
   "id": "8e13da06-74b0-4615-95e8-5936e11f50e9",
   "metadata": {},
   "outputs": [
    {
     "name": "stdin",
     "output_type": "stream",
     "text": [
      " 2\n",
      " 1 2\n"
     ]
    },
    {
     "name": "stdout",
     "output_type": "stream",
     "text": [
      "-3550055125485641917\n"
     ]
    }
   ],
   "source": [
    "#Tuples_LAMR\n",
    "if __name__ == '__main__':\n",
    "    n = int(input())\n",
    "    integer_list = tuple(map(int, input().split()))\n",
    "    print(hash(integer_list))\n"
   ]
  },
  {
   "cell_type": "markdown",
   "id": "88e5a880-492c-413e-8842-42d406f29a92",
   "metadata": {},
   "source": [
    " ## **Strings** Total 14"
   ]
  },
  {
   "cell_type": "markdown",
   "id": "954f2961-f112-486b-a27a-8694fa88e518",
   "metadata": {},
   "source": [
    "### 1. sWAP cASE"
   ]
  },
  {
   "cell_type": "code",
   "execution_count": 70,
   "id": "b27b375e-c500-4dcb-99d8-a8d4459fbce2",
   "metadata": {},
   "outputs": [],
   "source": [
    "#sawp case_LAMR\n",
    "\n",
    "def swap_case(s):\n",
    "    \n",
    "    convert=''.join([s[i].lower() if s[i].isupper() else s[i].upper()  \n",
    "    for i in range(len(str(s)))])\n",
    "    return convert    \n",
    "  \n"
   ]
  },
  {
   "cell_type": "markdown",
   "id": "fb9d2019-8976-40c7-9465-6479f4688067",
   "metadata": {},
   "source": [
    "### 2. String Split and Join"
   ]
  },
  {
   "cell_type": "code",
   "execution_count": 72,
   "id": "e75c3521-bd2f-42d6-ba1c-ce99f039e9c0",
   "metadata": {},
   "outputs": [
    {
     "name": "stdin",
     "output_type": "stream",
     "text": [
      " this is a string\n"
     ]
    },
    {
     "name": "stdout",
     "output_type": "stream",
     "text": [
      "this-is-a-string\n"
     ]
    }
   ],
   "source": [
    "#String split and join_LAMR\n",
    "\n",
    "def split_and_join(line):\n",
    "    # write your code here\n",
    "    line = line.split(\" \")\n",
    "    line = \"-\".join(line)\n",
    "    return(line)\n",
    "\n",
    "    \n",
    "\n",
    "if __name__ == '__main__':\n",
    "    line = input()\n",
    "    result = split_and_join(line)\n",
    "    print(result)\n"
   ]
  },
  {
   "cell_type": "markdown",
   "id": "9f2d9c5f-a317-4870-ab1a-f875d20aa896",
   "metadata": {},
   "source": [
    "### 3. What's Your Name?"
   ]
  },
  {
   "cell_type": "code",
   "execution_count": 74,
   "id": "b945f997-9e5f-45e6-b49f-6318c366dc91",
   "metadata": {},
   "outputs": [],
   "source": [
    "#What's Your Name?_LAMR\n",
    "# Complete the 'print_full_name' function below.\n",
    "#\n",
    "# The function is expected to return a STRING.\n",
    "# The function accepts following parameters:\n",
    "#  1. STRING first\n",
    "#  2. STRING last\n",
    "#\n",
    "\n",
    "def print_full_name(first, last):\n",
    "    # Write your code here\n",
    "    print(f\"Hello {first} {last}! You just delved into python.\")\n",
    "\n"
   ]
  },
  {
   "cell_type": "markdown",
   "id": "803313f5-f1fd-4b5a-bf14-d0342cfd9d1b",
   "metadata": {},
   "source": [
    "### 4. Mutations"
   ]
  },
  {
   "cell_type": "code",
   "execution_count": 76,
   "id": "aa9fb05c-e957-4411-8b0c-cf5e5d366fc5",
   "metadata": {},
   "outputs": [],
   "source": [
    "#mutations_LAMR\n",
    "\n",
    "def mutate_string(string, position, character):\n",
    "    \n",
    "    mutate = list(string)\n",
    "    mutate[position] = character\n",
    "    return \"\".join(mutate)\n",
    "    "
   ]
  },
  {
   "cell_type": "markdown",
   "id": "0f194538-e079-44d7-a2e1-271c1d7781b8",
   "metadata": {},
   "source": [
    "### 5. Find a string"
   ]
  },
  {
   "cell_type": "code",
   "execution_count": 78,
   "id": "b11f3f1d-e0cf-4cbb-9e1e-4502f2b6f3f4",
   "metadata": {},
   "outputs": [],
   "source": [
    "def count_substring(string, sub_string):\n",
    "    counting = 0\n",
    "    for i in range(len(string)):\n",
    "        if string[i:i + len(sub_string)] == sub_string:\n",
    "            counting = counting +1\n",
    "    return counting\n",
    "\n"
   ]
  },
  {
   "cell_type": "markdown",
   "id": "993bd479-ad99-48dc-a14d-6e560983f6e9",
   "metadata": {},
   "source": [
    "### 6.String Validators"
   ]
  },
  {
   "cell_type": "code",
   "execution_count": 80,
   "id": "b8d0e755-1b08-4c4e-ad03-5fe11f593533",
   "metadata": {},
   "outputs": [
    {
     "name": "stdin",
     "output_type": "stream",
     "text": [
      " qA2\n"
     ]
    },
    {
     "name": "stdout",
     "output_type": "stream",
     "text": [
      "True\n",
      "True\n",
      "True\n",
      "True\n",
      "True\n"
     ]
    }
   ],
   "source": [
    "#validator_LAMR\n",
    "\n",
    "if __name__ == '__main__':\n",
    "    s = input()\n",
    "    check_boolean = [False, False, False, False, False]\n",
    "    \n",
    "    for i in s:\n",
    "        if i.isalnum():\n",
    "            check_boolean[0] = True\n",
    "        if i.isalpha():\n",
    "            check_boolean[1] = True\n",
    "        if i.isdigit():\n",
    "            check_boolean[2] = True\n",
    "        if i.islower():\n",
    "            check_boolean[3] = True\n",
    "        if i.isupper():\n",
    "            check_boolean[4] = True    \n",
    "        \n",
    "    for x in check_boolean:\n",
    "        print(x)\n",
    "\n"
   ]
  },
  {
   "cell_type": "markdown",
   "id": "05625319-118b-4aaf-afc9-dc73ba025509",
   "metadata": {},
   "source": [
    "### 7. Text Alignment"
   ]
  },
  {
   "cell_type": "code",
   "execution_count": 82,
   "id": "a8fca39d-a8e0-4fd7-8c47-b88b256bd13d",
   "metadata": {},
   "outputs": [
    {
     "name": "stdin",
     "output_type": "stream",
     "text": [
      " 5\n"
     ]
    },
    {
     "name": "stdout",
     "output_type": "stream",
     "text": [
      "    H     \n",
      "   HHH    \n",
      "  HHHHH   \n",
      " HHHHHHH  \n",
      "HHHHHHHHH \n",
      "  HHHHH               HHHHH   \n",
      "  HHHHH               HHHHH   \n",
      "  HHHHH               HHHHH   \n",
      "  HHHHH               HHHHH   \n",
      "  HHHHH               HHHHH   \n",
      "  HHHHH               HHHHH   \n",
      "  HHHHHHHHHHHHHHHHHHHHHHHHH   \n",
      "  HHHHHHHHHHHHHHHHHHHHHHHHH   \n",
      "  HHHHHHHHHHHHHHHHHHHHHHHHH   \n",
      "  HHHHH               HHHHH   \n",
      "  HHHHH               HHHHH   \n",
      "  HHHHH               HHHHH   \n",
      "  HHHHH               HHHHH   \n",
      "  HHHHH               HHHHH   \n",
      "  HHHHH               HHHHH   \n",
      "                    HHHHHHHHH \n",
      "                     HHHHHHH  \n",
      "                      HHHHH   \n",
      "                       HHH    \n",
      "                        H     \n"
     ]
    }
   ],
   "source": [
    "#Text Alignment_LAMR\n",
    "\n",
    "thic_value = int(input())\n",
    "for i in range(thic_value):\n",
    "    string = 'H'*(i*2+1)\n",
    "    print(string.center(thic_value*2, ' '))\n",
    "\n",
    "for i in range(thic_value + 1):\n",
    "    string = 'H'*thic_value + '   '*thic_value + 'H'*thic_value\n",
    "    print(string.center(thic_value*6, ' '))\n",
    "    \n",
    "\n",
    "for i in range(int((thic_value + 1)/2)):\n",
    "    string = 'H'*thic_value*5      \n",
    "    print(string.center(thic_value*6, ' '))\n",
    "    \n",
    "for i in range(thic_value + 1):\n",
    "    string = 'H'*thic_value + '   '*thic_value + 'H'*thic_value\n",
    "    print(string.center(thic_value*6, ' '))\n",
    "    \n",
    "for i in range(thic_value):\n",
    "    string = 'H'*((thic_value - i - 1)*2 + 1)\n",
    "    print(' '*thic_value*4 + string.center(thic_value*2, ' '))\n"
   ]
  },
  {
   "cell_type": "markdown",
   "id": "25d586fd-215b-4099-a136-8f2ac79d7f80",
   "metadata": {},
   "source": [
    "### 8. Text Wrap"
   ]
  },
  {
   "cell_type": "code",
   "execution_count": 84,
   "id": "d1345dd9-f644-491c-aff9-ea57ccc16d21",
   "metadata": {},
   "outputs": [],
   "source": [
    "\n",
    "\n",
    "def wrap(string, max_width):\n",
    "    i= 1\n",
    "    new_str = []\n",
    "    for str in string:\n",
    "        new_str.append(str)\n",
    "        if i % max_width == 0:\n",
    "            new_str.append('\\n')\n",
    "        i +=1\n",
    "    return ''.join(new_str)\n",
    "    \n",
    "    \n",
    "    return\n",
    "\n"
   ]
  },
  {
   "cell_type": "markdown",
   "id": "802aaefd-bff5-487d-93f6-39eb84f94e31",
   "metadata": {},
   "source": [
    "### 9. Designer Door Mat"
   ]
  },
  {
   "cell_type": "code",
   "execution_count": 87,
   "id": "5ed169ca-d0a8-46f3-8b0b-35d45fdbc2d7",
   "metadata": {},
   "outputs": [
    {
     "name": "stdin",
     "output_type": "stream",
     "text": [
      " 7 21\n"
     ]
    },
    {
     "name": "stdout",
     "output_type": "stream",
     "text": [
      "---------.|.---------\n",
      "------.|..|..|.------\n",
      "---.|..|..|..|..|.---\n",
      "-------WELCOME-------\n",
      "---.|..|..|..|..|.---\n",
      "------.|..|..|.------\n",
      "---------.|.---------\n"
     ]
    }
   ],
   "source": [
    "## Enter your code here. Read input from STDIN. Print output to STDOUT\n",
    "n,m=map(int,input().split())\n",
    "\n",
    "i=0\n",
    "for i in range(n):\n",
    "    if i<((n-1)/2):\n",
    "        print(((\".\"+\"|\"+\".\")*(2*i+1)).center(m,\"-\"))\n",
    "    \n",
    "    elif i==((n-1)/2):\n",
    "        print(\"WELCOME\".center(m,\"-\"))\n",
    "        \n",
    "    else:\n",
    "        print(((\".\"+\"|\"+\".\")*(2*((n-1)-i)+1)).center(m,\"-\"))\n"
   ]
  },
  {
   "cell_type": "markdown",
   "id": "9937a696-177e-41da-b798-95e2952f93c4",
   "metadata": {},
   "source": [
    "### 10. String Formatting"
   ]
  },
  {
   "cell_type": "code",
   "execution_count": 89,
   "id": "ea957303-09d1-4a5e-afe9-c717a3c0738f",
   "metadata": {},
   "outputs": [],
   "source": [
    "def print_formatted(number):\n",
    "    width=len(bin(number))-2\n",
    "    for i in range(1, number+1):\n",
    "        print(f'{i:{width}} {i:{width}o} {i:{width}X} {i:{width}b}')\n",
    "\n"
   ]
  },
  {
   "cell_type": "markdown",
   "id": "0ffbf485-4c66-41c6-b1da-a29b0fef2619",
   "metadata": {},
   "source": [
    "### 11.Alphabet Rango"
   ]
  },
  {
   "cell_type": "code",
   "execution_count": 91,
   "id": "b5c1fdd7-09bd-42ce-a6a8-48d538878303",
   "metadata": {},
   "outputs": [],
   "source": [
    "def make_line(number_of_letters, size):\n",
    "    x = 97 + size - number_of_letters\n",
    "    line = \"\"\n",
    "    for i in range(number_of_letters -1, -1, -1):\n",
    "        line += chr(x+i) + \"-\"\n",
    "    for i in range(1, number_of_letters):\n",
    "        line += chr(x+i) + \"-\"\n",
    "    return line[:-1]\n",
    "\n",
    "def print_rangoli(size):\n",
    "    m= ((size*2)-1) + (size-1) * 2\n",
    "    for i in range(1, size+1):\n",
    "        pattern = make_line(i, size)\n",
    "        print(pattern.center(m, \"-\"))\n",
    "    for j in range(size -1, 0, -1):\n",
    "        pattern2 = make_line(j, size)\n",
    "        print(pattern2.center(m, \"-\"))\n",
    "        \n"
   ]
  },
  {
   "cell_type": "markdown",
   "id": "23428692-6c6c-42f3-9a22-544bb7c349d0",
   "metadata": {},
   "source": [
    "### 12. Capitalize!"
   ]
  },
  {
   "cell_type": "code",
   "execution_count": 93,
   "id": "95a2c8e6-0149-4cae-9bbc-cc000da7d243",
   "metadata": {},
   "outputs": [],
   "source": [
    "\n",
    "# Complete the solve function below.\n",
    "def solve(s):\n",
    "    s = s.split(' ')\n",
    "    for i in range(len(s)):\n",
    "        s[i] = s[i].capitalize()\n",
    "    return ' '.join(s)\n",
    "    \n"
   ]
  },
  {
   "cell_type": "markdown",
   "id": "3312a26c-348d-4c12-95e5-4c83b0f96ad4",
   "metadata": {},
   "source": [
    "### 13. The Minion Game"
   ]
  },
  {
   "cell_type": "code",
   "execution_count": 95,
   "id": "35d25c1e-54b0-495e-b256-ca18d9e50686",
   "metadata": {},
   "outputs": [],
   "source": [
    "def minion_game(string):\n",
    "   \n",
    "    vowels = 'AEIOU'\n",
    "    kevin_score = 0\n",
    "    stuart_score = 0\n",
    "    \n",
    "    n = len(string)\n",
    "    for i in range(n):\n",
    "        if string[i] in vowels:\n",
    "            kevin_score += n - i  # All possible substrings starting from index i\n",
    "        else:\n",
    "            stuart_score += n - i  # All possible substrings starting from index i\n",
    "    \n",
    "    if kevin_score > stuart_score:\n",
    "        print(f\"Kevin {kevin_score}\")\n",
    "    elif stuart_score > kevin_score:\n",
    "        print(f\"Stuart {stuart_score}\")\n",
    "    else:\n",
    "        print(\"Draw\")\n",
    "\n",
    "\n"
   ]
  },
  {
   "cell_type": "markdown",
   "id": "abcd766a-ab7f-423e-b8e8-30cbb8173e3f",
   "metadata": {},
   "source": [
    "### 14. Merge the Tools!"
   ]
  },
  {
   "cell_type": "code",
   "execution_count": 97,
   "id": "11f29156-a655-4f5e-80b2-2c8ead4ef6e7",
   "metadata": {},
   "outputs": [],
   "source": [
    "import textwrap\n",
    "\n",
    "def merge_the_tools(string, k):\n",
    "    \n",
    "    list1 = textwrap.wrap(string, k)\n",
    "    \n",
    "    for value in list1:\n",
    "        str1 = \"\"\n",
    "        for i in value:\n",
    "            if i not in str1:\n",
    "                str1 += i\n",
    "        print(str1)  \n",
    "\n",
    "\n"
   ]
  },
  {
   "cell_type": "markdown",
   "id": "7b0dc383-1714-4403-a3fa-e47863127b3b",
   "metadata": {},
   "source": [
    " ## **Sets** Total 13"
   ]
  },
  {
   "cell_type": "markdown",
   "id": "c05b72ef-6b97-45d2-bee1-14cbc44c5df0",
   "metadata": {},
   "source": [
    "### 1. Introduction to sets"
   ]
  },
  {
   "cell_type": "code",
   "execution_count": 115,
   "id": "d0d9ae85-0ad3-466d-a6cc-9d9ba2177d9d",
   "metadata": {},
   "outputs": [],
   "source": [
    "def average(array):\n",
    "    n_values = set(array)\n",
    "    return(sum(n_values)/len(n_values))\n",
    "    "
   ]
  },
  {
   "cell_type": "markdown",
   "id": "ced84756-20ef-4dbe-afe7-3d963a37762d",
   "metadata": {},
   "source": [
    "### 2. No idea!"
   ]
  },
  {
   "cell_type": "code",
   "execution_count": 117,
   "id": "efe92053-c7f3-422b-bf06-8083f3d746d9",
   "metadata": {},
   "outputs": [
    {
     "name": "stdin",
     "output_type": "stream",
     "text": [
      " 3 2\n",
      " 1 5 3\n",
      " 3 1\n",
      " 5 7\n"
     ]
    },
    {
     "name": "stdout",
     "output_type": "stream",
     "text": [
      "1\n"
     ]
    }
   ],
   "source": [
    "# Enter your code here. Read input from STDIN. Print output to STDOUT\n",
    "\n",
    "n, m = map(int, input().split())\n",
    "elements = list(map(int, input().split()))\n",
    "a = set(map(int, input().split()[:n]))\n",
    "b = set(map(int, input().split()[:m]))\n",
    "happiness = 0\n",
    "\n",
    "for item in elements:  # Corrected variable name from 'itiem' to 'item'\n",
    "    if item in a:\n",
    "        happiness += 1\n",
    "    elif item in b:\n",
    "        happiness -= 1\n",
    "\n",
    "print(happiness)  # Added print statement to output the result\n"
   ]
  },
  {
   "cell_type": "markdown",
   "id": "f4595600-a218-42ae-a787-dae06f8d30ea",
   "metadata": {},
   "source": [
    "### 3. Symetric Difference"
   ]
  },
  {
   "cell_type": "code",
   "execution_count": 119,
   "id": "ecd6352f-41bd-4f94-9745-6f71b72c974e",
   "metadata": {},
   "outputs": [
    {
     "name": "stdin",
     "output_type": "stream",
     "text": [
      " 4\n",
      " 2 4 5 9\n",
      " 4\n",
      " 2 4 11 12\n"
     ]
    },
    {
     "name": "stdout",
     "output_type": "stream",
     "text": [
      "5\n",
      "9\n",
      "11\n",
      "12\n"
     ]
    }
   ],
   "source": [
    "# Enter your code here. Read input from STDIN. Print output to STDOUT\n",
    "\n",
    "m = int(input())\n",
    "a = set(map(int, input().split()[:m]))\n",
    "n = int(input())\n",
    "b = set(map(int, input().split()[:n]))\n",
    "result = a ^ b\n",
    "for item in sorted(result):\n",
    "    print(item)\n"
   ]
  },
  {
   "cell_type": "markdown",
   "id": "9961a4a2-06f3-4869-a4a6-1c3f495975f3",
   "metadata": {},
   "source": [
    "### 4. Set.add()"
   ]
  },
  {
   "cell_type": "code",
   "execution_count": 121,
   "id": "d8555274-3cd8-4b0f-ac9b-f87995f0e5ba",
   "metadata": {},
   "outputs": [
    {
     "name": "stdin",
     "output_type": "stream",
     "text": [
      " 7\n",
      " UK\n",
      " China\n",
      " USA\n",
      " France\n",
      " New Zealand\n",
      " UK\n",
      " France\n"
     ]
    },
    {
     "name": "stdout",
     "output_type": "stream",
     "text": [
      "5\n"
     ]
    }
   ],
   "source": [
    "# Enter your code here. Read input from STDIN. Print output to STDOUT\n",
    "\n",
    "n = int(input())\n",
    "countries = set()\n",
    "[countries.add(input()) for i in range(n)]\n",
    "print(len(countries))\n"
   ]
  },
  {
   "cell_type": "markdown",
   "id": "8bba24b2-e6b9-4c3a-b065-2fd929cdca14",
   "metadata": {},
   "source": [
    "### 5. Set .discard()  .remove() & .pop()"
   ]
  },
  {
   "cell_type": "code",
   "execution_count": 123,
   "id": "19d64cca-00b1-4fec-ba4d-942fbff4e6c2",
   "metadata": {},
   "outputs": [
    {
     "name": "stdin",
     "output_type": "stream",
     "text": [
      " 9\n",
      " 1 2 3 4 5 6 7 8 9\n",
      " 10\n",
      " pop\n",
      " remove 9\n",
      " discard 9\n",
      " discard 8\n",
      " remove 7\n",
      " pop\n",
      " discard 6\n",
      " remove 5\n",
      " pop\n",
      " discard 5\n"
     ]
    },
    {
     "name": "stdout",
     "output_type": "stream",
     "text": [
      "4\n"
     ]
    }
   ],
   "source": [
    "n = int(input())\n",
    "s = set(map(int, input().split()))\n",
    "\n",
    "\n",
    "for _ in range(int(input())):\n",
    "    try:\n",
    "        function, *key = input().split()\n",
    "        mykey = [int(k) for k in key]\n",
    "        getattr(s, function)(*mykey)\n",
    "    except KeyError:\n",
    "        pass\n",
    "print(sum(s))\n"
   ]
  },
  {
   "cell_type": "markdown",
   "id": "48467fb4-e8c0-404b-832d-e50d69f38d7a",
   "metadata": {},
   "source": [
    "### 6. Set .union() Operation"
   ]
  },
  {
   "cell_type": "code",
   "execution_count": 125,
   "id": "e1cecc0a-38b5-41ed-845b-0c57e5be0164",
   "metadata": {},
   "outputs": [
    {
     "name": "stdin",
     "output_type": "stream",
     "text": [
      " 9\n",
      " 1 2 3 4 5 6 7 8 9 \n",
      " 9\n",
      " 10 1 2 3 11 21 55 6 8\n"
     ]
    },
    {
     "name": "stdout",
     "output_type": "stream",
     "text": [
      "13\n"
     ]
    }
   ],
   "source": [
    "# Enter your code here. Read input from STDIN. Print output to STDOU\n",
    "\n",
    "n_english = int(input())\n",
    "roll_english = set(input().split())\n",
    "n_french = int(input())\n",
    "roll_french = set(input().split())\n",
    "\n",
    "\n",
    "print (len(roll_english.union(roll_french)))\n"
   ]
  },
  {
   "cell_type": "markdown",
   "id": "5df6140a-08f1-4a2e-bee1-891ef430d0a0",
   "metadata": {},
   "source": [
    "### 7. Set .intersection() Operation"
   ]
  },
  {
   "cell_type": "code",
   "execution_count": 127,
   "id": "bad1a86a-ca80-4d2e-bca9-244604941420",
   "metadata": {},
   "outputs": [
    {
     "name": "stdin",
     "output_type": "stream",
     "text": [
      " 9\n",
      " 1 2 3 4 5 6 7 8 9\n",
      " 9\n",
      " 10 1 2 3 11 21 55 6 8\n"
     ]
    },
    {
     "name": "stdout",
     "output_type": "stream",
     "text": [
      "5\n"
     ]
    }
   ],
   "source": [
    "# Enter your code here. Read input from STDIN. Print output to STDOUT\n",
    "\n",
    "n_english = int(input())\n",
    "roll_english = set(input().split())\n",
    "n_french = int(input())\n",
    "roll_french = set(input().split())\n",
    "\n",
    "\n",
    "print (len(roll_english.intersection(roll_french)))\n"
   ]
  },
  {
   "cell_type": "markdown",
   "id": "fafb55d7-265d-44fd-b2c9-1223374f4cab",
   "metadata": {},
   "source": [
    "### 8. Set .difference() Operation"
   ]
  },
  {
   "cell_type": "code",
   "execution_count": 129,
   "id": "c18d561a-461d-4e69-b852-c50b83e00444",
   "metadata": {},
   "outputs": [
    {
     "name": "stdin",
     "output_type": "stream",
     "text": [
      " 9\n",
      "  1 2 3 4 5 6 7 8 9\n",
      " 9\n",
      " 10 1 2 3 11 21 55 6 8\n"
     ]
    },
    {
     "name": "stdout",
     "output_type": "stream",
     "text": [
      "4\n"
     ]
    }
   ],
   "source": [
    "# Enter your code here. Read input from STDIN. Print output to STDOUT\n",
    "\n",
    "n_english = int(input())\n",
    "roll_english = set(input().split())\n",
    "n_french = int(input())\n",
    "roll_french = set(input().split())\n",
    "\n",
    "\n",
    "print (len(roll_english.difference(roll_french)))\n"
   ]
  },
  {
   "cell_type": "markdown",
   "id": "a6d16e4f-d0e6-4f55-ba30-251b6bffb858",
   "metadata": {},
   "source": [
    "### 9. Set .symmmetric_difference() Operation"
   ]
  },
  {
   "cell_type": "code",
   "execution_count": 131,
   "id": "58013776-7e47-4b80-b0a5-f7148cf3f2ff",
   "metadata": {},
   "outputs": [
    {
     "name": "stdin",
     "output_type": "stream",
     "text": [
      " 9\n",
      " 1 2 3 4 5 6 7 8 9\n",
      " 9\n",
      " 10 1 2 3 11 21 55 6 8\n"
     ]
    },
    {
     "name": "stdout",
     "output_type": "stream",
     "text": [
      "8\n"
     ]
    }
   ],
   "source": [
    "# Enter your code here. Read input from STDIN. Print output to STDOUT\n",
    "\n",
    "n_english = int(input())\n",
    "roll_english = set(input().split())\n",
    "n_french = int(input())\n",
    "roll_french = set(input().split())\n",
    "\n",
    "\n",
    "print (len(roll_english.symmetric_difference(roll_french)))\n"
   ]
  },
  {
   "cell_type": "markdown",
   "id": "44a3d4f0-e007-4fcc-b019-5e9372ad5c6f",
   "metadata": {},
   "source": [
    "### 10. Set Mutations"
   ]
  },
  {
   "cell_type": "code",
   "execution_count": 133,
   "id": "5f59273f-0a0f-4c83-a0bd-052505419b92",
   "metadata": {},
   "outputs": [
    {
     "name": "stdin",
     "output_type": "stream",
     "text": [
      " 16\n",
      " 1 2 3 4 5 6 7 8 9 10 11 12 13 14 24 52\n",
      " 4\n",
      " intersection_update 10\n",
      " 2 3 5 6 8 9 1 4 7 11\n",
      " update 2\n",
      " 55 66\n",
      " symmetric_difference_update 5\n",
      " 22 7 35 62 58\n",
      " difference_update 7\n",
      " 11 22 35 55 58 62 66\n"
     ]
    },
    {
     "name": "stdout",
     "output_type": "stream",
     "text": [
      "38\n"
     ]
    }
   ],
   "source": [
    "# Enter your code here. Read input from STDIN. Print output to STDOUT\n",
    "\n",
    "n = int(input())\n",
    "A = set(map(int, input().split()))\n",
    "N = int(input())\n",
    "\n",
    "for i in range(N):\n",
    "    command = input().split()\n",
    "    B = set(map(int, input().split()))\n",
    "    if command[0] == \"intersection_update\":\n",
    "        A.intersection_update(B)\n",
    "    if command[0] == \"update\":\n",
    "        A.update(B)\n",
    "    if command[0] == \"symmetric_difference_update\":\n",
    "        A.symmetric_difference_update(B)\n",
    "    if command[0] == \"difference_update\":\n",
    "        A.difference_update(B)\n",
    "\n",
    "print(sum(A))\n"
   ]
  },
  {
   "cell_type": "markdown",
   "id": "893b198e-965e-4ce4-b527-159c0af71b57",
   "metadata": {},
   "source": [
    "### 11. The Capitain's room"
   ]
  },
  {
   "cell_type": "code",
   "execution_count": 135,
   "id": "5f071938-e74d-48d5-834a-780548be4314",
   "metadata": {},
   "outputs": [
    {
     "name": "stdin",
     "output_type": "stream",
     "text": [
      " 5\n",
      " 1 2 3 6 5 4 4 2 5 3 6 1 6 5 3 2 4 1 2 5 1 4 3 6 8 4 3 1 5 6 2 \n"
     ]
    },
    {
     "name": "stdout",
     "output_type": "stream",
     "text": [
      "8\n"
     ]
    }
   ],
   "source": [
    "# Enter your code here. Read input from STDIN. Print output to STDOUT\n",
    "\n",
    "K = int(input()) #group members\n",
    "number_list = list(map(int,input().split()))\n",
    "conver_set = set(number_list)\n",
    "\n",
    "for i in conver_set:\n",
    "    number_list.remove(i)\n",
    "    if i not in number_list:\n",
    "        print(i)\n",
    "    \n"
   ]
  },
  {
   "cell_type": "markdown",
   "id": "656148f8-89cb-4132-9495-5264dd11adc4",
   "metadata": {},
   "source": [
    "### 12. Check subset"
   ]
  },
  {
   "cell_type": "code",
   "execution_count": 137,
   "id": "c971397a-c5c7-420d-bb22-c36b186b333c",
   "metadata": {},
   "outputs": [
    {
     "name": "stdin",
     "output_type": "stream",
     "text": [
      " 3\n",
      " 5\n",
      " 1 2 3 5 6\n",
      " 9\n",
      " 9 8 5 6 3 2 1 4 7\n"
     ]
    },
    {
     "name": "stdout",
     "output_type": "stream",
     "text": [
      "True\n"
     ]
    },
    {
     "name": "stdin",
     "output_type": "stream",
     "text": [
      " 1\n",
      " 2\n",
      " 5\n",
      " 3 6 5 4 1\n"
     ]
    },
    {
     "name": "stdout",
     "output_type": "stream",
     "text": [
      "False\n"
     ]
    },
    {
     "name": "stdin",
     "output_type": "stream",
     "text": [
      " 7\n",
      " 1 2 3 5 6 8 9\n",
      " 3\n",
      " 9 8 2\n"
     ]
    },
    {
     "name": "stdout",
     "output_type": "stream",
     "text": [
      "False\n"
     ]
    }
   ],
   "source": [
    "# Enter your code here. Read input from STDIN. Print output to STDOUT\n",
    "\n",
    "T = int(input())\n",
    "\n",
    "for i in range(T):\n",
    "    inp1, A = input(), set(input().split())\n",
    "    inp2, B = input(), set(input().split())\n",
    "        \n",
    "    print(A.issubset(B))\n"
   ]
  },
  {
   "cell_type": "markdown",
   "id": "4f844a2e-c832-481c-89af-efd5a065dfbc",
   "metadata": {},
   "source": [
    "### 13. Check strict superset"
   ]
  },
  {
   "cell_type": "code",
   "execution_count": 143,
   "id": "4cb9af0d-5c3f-4b60-899c-944d6e0ffeb0",
   "metadata": {},
   "outputs": [
    {
     "name": "stdin",
     "output_type": "stream",
     "text": [
      " 1 2 3 4 5 6 7 8 9 10 11 12 23 45 84 78\n",
      " 2\n",
      " 1 2 3 4 5\n",
      " 100 11 12\n"
     ]
    },
    {
     "name": "stdout",
     "output_type": "stream",
     "text": [
      "False\n"
     ]
    }
   ],
   "source": [
    "# Enter your code here. Read input from STDIN. Print output to STDOUT\n",
    "\n",
    "A_set=set(map(int, input().split()))\n",
    "is_superset = True\n",
    "for i in range(int(input())):\n",
    "    if not A_set.issuperset(set(map(int, input().split()))):\n",
    "        is_superset = False\n",
    "        break\n",
    "print(is_superset)\n",
    "\n"
   ]
  },
  {
   "cell_type": "markdown",
   "id": "bde307dc-c63e-4505-962e-d327aaa1f0df",
   "metadata": {},
   "source": [
    " ## **Collections** Total 8"
   ]
  },
  {
   "cell_type": "markdown",
   "id": "c793d163-36da-43e5-a49b-91d894238885",
   "metadata": {},
   "source": [
    "### 1. collections.counter()"
   ]
  },
  {
   "cell_type": "code",
   "execution_count": 5,
   "id": "04693c87-0033-480f-b11e-823460872782",
   "metadata": {},
   "outputs": [
    {
     "name": "stdin",
     "output_type": "stream",
     "text": [
      " 10\n",
      " 2 3 4 5\n",
      " 6\n",
      " 5 20\n",
      " 3 10\n",
      " 1 15\n",
      " 5 20\n",
      " 4 100\n",
      " 2 200\n"
     ]
    },
    {
     "name": "stdout",
     "output_type": "stream",
     "text": [
      "330\n"
     ]
    }
   ],
   "source": [
    "from collections import Counter\n",
    "\n",
    "nun_shoes = int(input())\n",
    "shoe_sizes = Counter(map(int, input().split()))\n",
    "N = int(input())\n",
    "total = 0\n",
    "\n",
    "for i in range(N):\n",
    "    size, price = map(int, input().split())\n",
    "    if shoe_sizes.get(size, 0) > 0:\n",
    "        shoe_sizes[size] -= 1\n",
    "        total += price\n",
    "        if shoe_sizes[size] == 0:\n",
    "            del shoe_sizes[size]\n",
    "print(total)"
   ]
  },
  {
   "cell_type": "markdown",
   "id": "45683494-9922-4cdf-af36-008a3546d8cb",
   "metadata": {},
   "source": [
    "### 2. DefaultDic Tutorial"
   ]
  },
  {
   "cell_type": "code",
   "execution_count": 199,
   "id": "d632bf31-d496-4497-bacf-077a04a41917",
   "metadata": {},
   "outputs": [
    {
     "name": "stdin",
     "output_type": "stream",
     "text": [
      " 5 2\n",
      " a\n",
      " a\n",
      " b\n",
      " a\n",
      " b\n",
      " a\n",
      " b\n"
     ]
    },
    {
     "name": "stdout",
     "output_type": "stream",
     "text": [
      "1 2 4\n",
      "3 5\n"
     ]
    }
   ],
   "source": [
    "# Enter your code here. Read input from STDIN. Print output to STDOU\n",
    "\n",
    "from collections import defaultdict\n",
    "\n",
    "I = defaultdict(list)\n",
    "\n",
    "a, b = map(int, input().split())\n",
    "A = [str(input()) for _ in range(a)]\n",
    "B = [str(input()) for _ in range(b)]\n",
    "\n",
    "   \n",
    "E = list(enumerate(A))\n",
    "\n",
    "for _ in E:\n",
    "    I[_[1]].append(_[0]+1)\n",
    "    \n",
    "for b in B:\n",
    "    if b in A:\n",
    "        print(*I[b])\n",
    "    else:\n",
    "        print(-1)"
   ]
  },
  {
   "cell_type": "markdown",
   "id": "b3719e86-ab60-4d22-a8f6-107d585beb9e",
   "metadata": {},
   "source": [
    "### 3. collections.namedtuple()"
   ]
  },
  {
   "cell_type": "code",
   "execution_count": 201,
   "id": "d23a1345-1a1b-4727-b892-e6704a469d60",
   "metadata": {},
   "outputs": [
    {
     "name": "stdin",
     "output_type": "stream",
     "text": [
      " 5\n",
      " ID MARKS NAME CLASS\n",
      " 1          97         Raymond    7\n",
      " 2          50         Steven     4\n",
      " 3          91         Adrian     9\n",
      " 4          72         Stewart    5\n",
      " 5          80         Peter      6\n"
     ]
    },
    {
     "name": "stdout",
     "output_type": "stream",
     "text": [
      "78.0\n"
     ]
    }
   ],
   "source": [
    "# Enter your code here. Read input from STDIN. Print output to STDOUT\n",
    "\n",
    "from collections import namedtuple\n",
    "num_students = int(input())\n",
    "w, x, y, z = input().split()\n",
    "Student = namedtuple('Student', f'{w} {x} {y} {z}')\n",
    "total = 0\n",
    "\n",
    "for i in range(num_students):\n",
    "    w2, x2, y2, z2 = input().split()\n",
    "    student = Student(w2, x2, y2, z2)\n",
    "    total += int(student.MARKS)\n",
    "print(total / num_students)\n"
   ]
  },
  {
   "cell_type": "markdown",
   "id": "2ee7c87e-9648-4c09-a369-58963906ddf7",
   "metadata": {},
   "source": [
    "### 4. collections.OrderedDic()"
   ]
  },
  {
   "cell_type": "code",
   "execution_count": 203,
   "id": "abdb9017-45e7-4d28-9dc8-c04038aada92",
   "metadata": {},
   "outputs": [
    {
     "name": "stdin",
     "output_type": "stream",
     "text": [
      " 9\n",
      " BANANA FRIES 12\n",
      " POTATO CHIPS 30\n",
      " APPLE JUICE 10\n",
      " CANDY 5\n",
      " APPLE JUICE 10\n",
      " CANDY 5\n",
      " CANDY 5\n",
      " CANDY 5\n",
      " POTATO CHIPS 30\n"
     ]
    },
    {
     "name": "stdout",
     "output_type": "stream",
     "text": [
      "BANANA FRIES 12\n",
      "POTATO CHIPS 60\n",
      "APPLE JUICE 20\n",
      "CANDY 20\n"
     ]
    },
    {
     "data": {
      "text/plain": [
       "[None, None, None, None]"
      ]
     },
     "execution_count": 203,
     "metadata": {},
     "output_type": "execute_result"
    }
   ],
   "source": [
    "# Enter your code here. Read input from STDIN. Print output to STDOUT\n",
    "\n",
    "from collections import OrderedDict\n",
    "\n",
    "num = int(input())\n",
    "item_dict = OrderedDict()\n",
    "\n",
    "\n",
    "for i in range(num):\n",
    "    item_name, net_price = input().rsplit(maxsplit=1)\n",
    "    net_price = int(net_price)\n",
    "    item_dict[item_name] = item_dict.get(item_name, 0) + net_price\n",
    "\n",
    "\n",
    "[print(item, price) for item, price in item_dict.items()]"
   ]
  },
  {
   "cell_type": "markdown",
   "id": "1a3c9785-1de4-43c5-a5e7-ef42af7d2817",
   "metadata": {},
   "source": [
    "### 5. Word Order"
   ]
  },
  {
   "cell_type": "code",
   "execution_count": 205,
   "id": "3ce12315-42bb-405d-91c0-2494ff822e0d",
   "metadata": {},
   "outputs": [
    {
     "name": "stdin",
     "output_type": "stream",
     "text": [
      " 4\n",
      " bcdef\n",
      " abcdefg\n",
      " bcde\n",
      " bcdef\n"
     ]
    },
    {
     "name": "stdout",
     "output_type": "stream",
     "text": [
      "3\n",
      "2 1 1\n"
     ]
    }
   ],
   "source": [
    "# Enter your code here. Read input from STDIN. Print output to STDOUT\n",
    "\n",
    "n = int(input())\n",
    "words = {}\n",
    "\n",
    "for i in range(n):\n",
    "    word = input().lower()\n",
    "    if word in words:\n",
    "        words[word] += 1\n",
    "    else:\n",
    "        words[word] = 1\n",
    "\n",
    "print(len(words))\n",
    "print(' '.join(map(str, words.values())))\n"
   ]
  },
  {
   "cell_type": "markdown",
   "id": "be7a79db-8558-4eae-b590-d8e150634bd5",
   "metadata": {},
   "source": [
    "### 6. collections.deque()"
   ]
  },
  {
   "cell_type": "code",
   "execution_count": 209,
   "id": "998b021d-ee7e-4a2e-a6df-2661d2f2f84b",
   "metadata": {},
   "outputs": [
    {
     "name": "stdin",
     "output_type": "stream",
     "text": [
      " 6\n",
      " append 1\n",
      " append 2\n",
      " append 3\n",
      " appendleft 4\n",
      " pop\n",
      " popleft\n"
     ]
    },
    {
     "name": "stdout",
     "output_type": "stream",
     "text": [
      "1 2\n"
     ]
    }
   ],
   "source": [
    "# Enter your code here. Read input from STDIN. Print output to STDOUT\n",
    "\n",
    "from collections import deque\n",
    "\n",
    "num = int(input())\n",
    "d = deque()\n",
    "\n",
    "for i in range(num):\n",
    "    command_input = input().split()\n",
    "    command = command_input[0]\n",
    "    value = int(command_input[1]) if len(command_input) > 1 else None\n",
    "\n",
    "    # Execute the command with or without value\n",
    "    if value is not None:\n",
    "        getattr(d, command)(value)\n",
    "    else:\n",
    "        getattr(d, command)()\n",
    "print(*d)\n"
   ]
  },
  {
   "cell_type": "markdown",
   "id": "9c1276b1-5638-461c-80b9-ceb178600ab0",
   "metadata": {},
   "source": [
    "### 7. Company Logo"
   ]
  },
  {
   "cell_type": "code",
   "execution_count": 211,
   "id": "9d3cb905-4fb8-4ea2-a7a3-e08cf29f0658",
   "metadata": {},
   "outputs": [
    {
     "name": "stdin",
     "output_type": "stream",
     "text": [
      " aabbbccde\n"
     ]
    },
    {
     "name": "stdout",
     "output_type": "stream",
     "text": [
      "b 3\n",
      "a 2\n",
      "c 2\n"
     ]
    }
   ],
   "source": [
    "#!/bin/python3\n",
    "\n",
    "import math\n",
    "import os\n",
    "import random\n",
    "import re\n",
    "import sys\n",
    "\n",
    "from itertools import groupby\n",
    "from collections import Counter\n",
    "\n",
    "\n",
    "\n",
    "if __name__ == '__main__':\n",
    "    s = input() \n",
    "    d = {}\n",
    "    \n",
    "    # Count occurrences of each character\n",
    "    for i in s:\n",
    "        d[i] = s.count(i)\n",
    "    \n",
    "    # Sort dictionary by key\n",
    "    nd = dict(sorted(d.items()))\n",
    "    \n",
    "    # Print the character with the maximum count\n",
    "    for j in range(3):\n",
    "        if nd:  # Check if dictionary is not empty\n",
    "            m = max(nd, key=nd.get)\n",
    "            print(\"{} {}\".format(m, nd[m]))\n",
    "            nd.pop(m)\n",
    "        else:\n",
    "            break\n",
    "  \n"
   ]
  },
  {
   "cell_type": "markdown",
   "id": "5f2277a2-eb20-442b-b277-5ae4e403d67a",
   "metadata": {},
   "source": [
    "### 8. Pilling Up!"
   ]
  },
  {
   "cell_type": "code",
   "execution_count": 213,
   "id": "3db876d5-29e4-4d61-9457-e284116df683",
   "metadata": {},
   "outputs": [
    {
     "name": "stdin",
     "output_type": "stream",
     "text": [
      " 2\n",
      " 6\n",
      " 4 3 2 1 3 4\n"
     ]
    },
    {
     "name": "stdout",
     "output_type": "stream",
     "text": [
      "Yes\n"
     ]
    },
    {
     "name": "stdin",
     "output_type": "stream",
     "text": [
      " 3\n",
      " 1 3 2\n"
     ]
    },
    {
     "name": "stdout",
     "output_type": "stream",
     "text": [
      "No\n"
     ]
    }
   ],
   "source": [
    "# Enter your code here. Read input from STDIN. Print output to STDOUT\n",
    "\n",
    "T = int(input())\n",
    "for _ in range(T):\n",
    "    n = int(input())\n",
    "    a  = list(map(int, input().split()))\n",
    "    b = []\n",
    "    while a:\n",
    "        if a[0] >= a[-1]:\n",
    "            b.append(a.pop(0))\n",
    "        else:\n",
    "            b.append(a.pop())\n",
    "    if b == sorted(b, reverse = True):\n",
    "        print(\"Yes\")\n",
    "    else:\n",
    "        print(\"No\")\n"
   ]
  },
  {
   "cell_type": "markdown",
   "id": "ec53bc69-efd7-478e-bd79-6ce4122af576",
   "metadata": {},
   "source": [
    " ## **Data and Time** Total 2"
   ]
  },
  {
   "cell_type": "markdown",
   "id": "1d2a8f19-8cd7-4ec5-990d-8d4669ee5b2f",
   "metadata": {},
   "source": [
    "### 1. Calendar Module"
   ]
  },
  {
   "cell_type": "code",
   "execution_count": 215,
   "id": "f42d27ea-0842-45a7-98f7-a5e54e3d6294",
   "metadata": {},
   "outputs": [
    {
     "name": "stdin",
     "output_type": "stream",
     "text": [
      " 08 05 2015\n"
     ]
    },
    {
     "name": "stdout",
     "output_type": "stream",
     "text": [
      "WEDNESDAY\n"
     ]
    }
   ],
   "source": [
    "# Enter your code here. Read input from STDIN. Print output to STDOUT\n",
    "\n",
    "import calendar\n",
    "m, d, y = input().split()\n",
    "\n",
    "y, m, d = int(y), int(m), int(d)\n",
    "day_index = calendar.weekday(y, m, d)\n",
    "days_of_week = list(calendar.day_name)\n",
    "\n",
    "print(days_of_week[day_index].upper())\n"
   ]
  },
  {
   "cell_type": "markdown",
   "id": "94ab3aee-7e7a-4bb3-9874-e6e23694b8ce",
   "metadata": {},
   "source": [
    "### 2. Time Delta"
   ]
  },
  {
   "cell_type": "code",
   "execution_count": null,
   "id": "00a502f0-e85e-4609-a18c-1afeeb8ca5b4",
   "metadata": {},
   "outputs": [],
   "source": [
    "#!/bin/python3\n",
    "\n",
    "import math\n",
    "import os\n",
    "import random\n",
    "import re\n",
    "import sys\n",
    "from datetime import datetime as dt\n",
    "\n",
    "# Complete the time_delta function below.\n",
    "def time_delta(t1, t2):\n",
    "    \n",
    "    fmt = \"%a %d %b %Y %H:%M:%S %z\"\n",
    "    deltaSeconds = abs((dt.strptime(t1, fmt)- dt.strptime(t2, fmt)).total_seconds())\n",
    "    return str(int(deltaSeconds))\n",
    "    \n",
    "\n",
    "if __name__ == '__main__':\n",
    "    fptr = open(os.environ['OUTPUT_PATH'], 'w')\n",
    "\n",
    "    t = int(input())\n",
    "\n",
    "    for t_itr in range(t):\n",
    "        t1 = input()\n",
    "\n",
    "        t2 = input()\n",
    "\n",
    "        delta = time_delta(t1, t2)\n",
    "\n",
    "        fptr.write(delta + '\\n')\n",
    "\n",
    "    fptr.close()\n"
   ]
  },
  {
   "cell_type": "markdown",
   "id": "0dcc929c-befd-46f5-8743-f673f3594868",
   "metadata": {},
   "source": [
    " ## **Exceptions** Total 1"
   ]
  },
  {
   "cell_type": "markdown",
   "id": "3861e4f2-5997-42b7-bcbf-22a6a31ba62f",
   "metadata": {},
   "source": [
    "### 1. Exceptions"
   ]
  },
  {
   "cell_type": "code",
   "execution_count": 219,
   "id": "2d8959d7-29cb-4d27-8088-0d2774110138",
   "metadata": {},
   "outputs": [
    {
     "name": "stdin",
     "output_type": "stream",
     "text": [
      " 3\n",
      " 1 0\n"
     ]
    },
    {
     "name": "stdout",
     "output_type": "stream",
     "text": [
      "Error Code: integer division or modulo by zero\n"
     ]
    },
    {
     "name": "stdin",
     "output_type": "stream",
     "text": [
      " 2 $\n"
     ]
    },
    {
     "name": "stdout",
     "output_type": "stream",
     "text": [
      "Error Code: invalid literal for int() with base 10: '$'\n"
     ]
    },
    {
     "name": "stdin",
     "output_type": "stream",
     "text": [
      " 3 1\n"
     ]
    },
    {
     "name": "stdout",
     "output_type": "stream",
     "text": [
      "3\n"
     ]
    }
   ],
   "source": [
    "# Enter your code here. Read input from STDIN. Print output to STDOUT\n",
    "\n",
    "test_cases = int(input())\n",
    "for i in range(0,test_cases):\n",
    "    a, b = input().split()\n",
    "    \n",
    "    try:\n",
    "        print(round(int(a)//int(b)))\n",
    "        \n",
    "    except Exception as e:\n",
    "        print(\"Error Code:\", e)\n"
   ]
  },
  {
   "cell_type": "markdown",
   "id": "da8d210c-0a4c-4c7b-8a9c-915e5d4f8be2",
   "metadata": {},
   "source": [
    " ## **Built-ins** Total 3"
   ]
  },
  {
   "cell_type": "markdown",
   "id": "5b03bdfa-ea89-4af4-bd22-dddebc5971c1",
   "metadata": {},
   "source": [
    "### 1. Zipped!"
   ]
  },
  {
   "cell_type": "code",
   "execution_count": null,
   "id": "ad9a4d55-d6c7-49c8-89fc-9b7952c939f8",
   "metadata": {},
   "outputs": [],
   "source": [
    "# Enter your code here. Read input from STDIN. Print output to STDOUT\n",
    "\n",
    "n, x = list(map(int, input().split()))\n",
    "array = []\n",
    "\n",
    "for _ in range(x):\n",
    "    marks = list(map(float, input().split()))\n",
    "    array.append(marks)\n",
    "\n",
    "for i in range(n):\n",
    "    total = 0\n",
    "    for j in range(x):\n",
    "        total += array[j][i]\n",
    "    print(round(total / x, 1))\n"
   ]
  },
  {
   "cell_type": "markdown",
   "id": "05b223ad-72d2-45a4-b6dd-e0e3d7160c4e",
   "metadata": {},
   "source": [
    "### 2. Athlete sort"
   ]
  },
  {
   "cell_type": "code",
   "execution_count": null,
   "id": "3e498906-d02c-44c8-ba56-07fe7174f3de",
   "metadata": {},
   "outputs": [],
   "source": [
    "#!/bin/python3\n",
    "\n",
    "import math\n",
    "import os\n",
    "import random\n",
    "import re\n",
    "import sys\n",
    "\n",
    "\n",
    "if __name__ == '__main__':\n",
    "    nm = input().split()\n",
    "    n = int(nm[0])\n",
    "    m = int(nm[1])\n",
    "\n",
    "    arr = []\n",
    "    for _ in range(n):\n",
    "        arr.append(list(map(int, input().rstrip().split())))\n",
    "\n",
    "    k = int(input())\n",
    "\n",
    "    from operator import itemgetter\n",
    "\n",
    "    def sort(k):\n",
    "        def deco(f):\n",
    "            def wrap(arr):\n",
    "                arr.sort(key=itemgetter(k))\n",
    "                return [f(athlete) for athlete in arr]\n",
    "            return wrap\n",
    "        return deco\n",
    "\n",
    "    def person(athlete):\n",
    "        return \" \".join(map(str, athlete))\n",
    "\n",
    "    decorated_person = sort(k)(person)\n",
    "    print(*decorated_person(arr), sep='\\n')\n",
    "\n"
   ]
  },
  {
   "cell_type": "markdown",
   "id": "6e46864e-440d-4149-a68a-1d788a3f88ed",
   "metadata": {},
   "source": [
    "### 3. ginortS"
   ]
  },
  {
   "cell_type": "code",
   "execution_count": null,
   "id": "087f3d3b-eed5-45a5-88e8-d9095fa9ccf6",
   "metadata": {},
   "outputs": [],
   "source": [
    "# Enter your code here. Read input from STDIN. Print output to STDOUT\n",
    "\n",
    "string = input()\n",
    "lower=\"\"\n",
    "upper=\"\"\n",
    "even=\"\"\n",
    "odd=\"\"\n",
    "\n",
    "for i in string:\n",
    "    if i.isalpha():\n",
    "        if i.islower():\n",
    "            lower+=i\n",
    "        else:\n",
    "            upper+=i\n",
    "    elif i.isnumeric():\n",
    "        if int(i)%2==0:\n",
    "            even+=i\n",
    "        else:\n",
    "            odd+=i\n",
    "print(\"\".join(sorted(lower)+sorted(upper)+sorted(odd)+sorted(even)))\n"
   ]
  },
  {
   "cell_type": "markdown",
   "id": "4518a1cd-ad7b-4f22-b34c-af9a5826391d",
   "metadata": {},
   "source": [
    " ## **Python Functionals** Total 1"
   ]
  },
  {
   "cell_type": "markdown",
   "id": "21670f7e-4b56-4402-8d02-5d4b738a8c74",
   "metadata": {},
   "source": [
    "### 1. Map and Lambda function"
   ]
  },
  {
   "cell_type": "code",
   "execution_count": 221,
   "id": "33ad9c76-b72d-4332-81f5-ad02bc90d5f2",
   "metadata": {},
   "outputs": [],
   "source": [
    "cube = lambda x:x**3\n",
    "\n",
    "def fibonacci(n):\n",
    "    list = []\n",
    "    for i in range(n):\n",
    "        if i == 0 or i == 1:\n",
    "            list.append(i)\n",
    "        else:\n",
    "            x = list[i-1] + list[i - 2]\n",
    "            list.append(x)\n",
    "    return list\n"
   ]
  },
  {
   "cell_type": "markdown",
   "id": "3063239b-1518-4420-9286-098618dac339",
   "metadata": {},
   "source": [
    " ## **Regex and Parsing challenges** Total 17"
   ]
  },
  {
   "cell_type": "markdown",
   "id": "275f5ba3-1ac6-4c3d-8b62-b50dd8717099",
   "metadata": {},
   "source": [
    "### 1. Detect floating point number"
   ]
  },
  {
   "cell_type": "code",
   "execution_count": null,
   "id": "2c5efba2-5e16-4348-baf7-5512fe7c7c3c",
   "metadata": {},
   "outputs": [],
   "source": [
    "# Enter your code here. Read input from STDIN. Print output to STDOUT\n",
    "\n",
    "T = int(input())\n",
    "\n",
    "for k in range (T) :\n",
    "    x = 1\n",
    "    s = input()\n",
    "    \n",
    "    try :\n",
    "        y = float (s)\n",
    "        if s.count(\".\") == 0 :\n",
    "            x = 0\n",
    "            \n",
    "    except :\n",
    "        x = 0 \n",
    "           \n",
    "    print(bool(x))  \n"
   ]
  },
  {
   "cell_type": "markdown",
   "id": "c59cd0ab-8ef8-4135-9eac-1ce45f77ff0c",
   "metadata": {},
   "source": [
    "### 2. Re.spli()"
   ]
  },
  {
   "cell_type": "code",
   "execution_count": null,
   "id": "fc6b4de4-0103-46f4-97a3-0647bae9c16b",
   "metadata": {},
   "outputs": [],
   "source": [
    "regex_pattern = r\"\\D\"\t# Do not delete 'r'.\n",
    "\n"
   ]
  },
  {
   "cell_type": "markdown",
   "id": "d8a711f5-bd63-48a0-84ac-498ee569d3b5",
   "metadata": {},
   "source": [
    "### 3. Group() Groups() & groupdict()"
   ]
  },
  {
   "cell_type": "code",
   "execution_count": null,
   "id": "b6c01935-b11c-41cf-a91d-c48a390f2d6a",
   "metadata": {},
   "outputs": [],
   "source": [
    "# Enter your code here. Read input from STDIN. Print output to STDOUT\n",
    "\n",
    "import re\n",
    "s = input()\n",
    "rx = re.compile(r\"([a-zA-Z0-9])(?=\\1)\")\n",
    "print(rx.search(s)[0] if rx.search(s) else -1)\n"
   ]
  },
  {
   "cell_type": "markdown",
   "id": "ba261271-bb8a-4f55-bb04-cc1354852dff",
   "metadata": {},
   "source": [
    "### 4. re.findall() & re. finfiter()"
   ]
  },
  {
   "cell_type": "code",
   "execution_count": 223,
   "id": "2edc2cbc-d3e5-4d62-b2ed-0f4eddc056a0",
   "metadata": {},
   "outputs": [
    {
     "name": "stdin",
     "output_type": "stream",
     "text": [
      " rabcdeefgyYhFjkIoomnpOeorteeeeet\n"
     ]
    },
    {
     "name": "stdout",
     "output_type": "stream",
     "text": [
      "ee\n",
      "Ioo\n",
      "Oeo\n",
      "eeeee\n"
     ]
    }
   ],
   "source": [
    "# Enter your code here. Read input from STDIN. Print output to STDOUT\n",
    "\n",
    "import re\n",
    "\n",
    "if __name__==\"__main__\":\n",
    "    s = input()\n",
    "    r = re.findall(r'(?<=[^aeiouAEIOU])[aeiouAEIOU]{2,}(?=[^aeiouAEIOU])',s)\n",
    "    if not r:\n",
    "        print(-1)\n",
    "    else:\n",
    "        for p in r:\n",
    "            print(p)\n"
   ]
  },
  {
   "cell_type": "markdown",
   "id": "7ef45da8-6806-4529-a5fa-ec1bfe15f2af",
   "metadata": {},
   "source": [
    "### 5. Re.start() & re.end()"
   ]
  },
  {
   "cell_type": "code",
   "execution_count": null,
   "id": "67a1884d-649e-4e2d-a85d-f1a7a51b88f3",
   "metadata": {},
   "outputs": [],
   "source": [
    "# Enter your code here. Read input from STDIN. Print output to STDOUT\n",
    "\n",
    "import re\n",
    "\n",
    "string = input()\n",
    "k = input()\n",
    "\n",
    "pattern = f\"(?=({k}))\"\n",
    "matches = re.finditer(pattern, string)\n",
    "indices = []\n",
    "\n",
    "for match in matches:\n",
    "    indices.append((match.start(), match.start() + len(k) - 1))\n"
   ]
  },
  {
   "cell_type": "markdown",
   "id": "86a240e2-08d8-45dd-a81a-85ddf27de59f",
   "metadata": {},
   "source": [
    "### 6. Regex substitution"
   ]
  },
  {
   "cell_type": "code",
   "execution_count": null,
   "id": "2273942f-9fe0-4ce6-bd9d-d66307458857",
   "metadata": {},
   "outputs": [],
   "source": [
    "# Enter your code here. Read input from STDIN. Print output to STDOUT\n",
    "\n",
    "import re\n",
    "n = int(input())\n",
    "s = \"\\n\".join([input() for _ in range(n)])\n",
    "patern = r'(?<=\\s)&&(?=\\s)|(?<=\\s)\\|\\|(?=\\s)'\n",
    "print(re.sub(patern, lambda m: 'and' if m.group(0) == '&&' else 'or', s))\n"
   ]
  },
  {
   "cell_type": "markdown",
   "id": "8cb551b5-af40-40cd-a15a-fe8d66eabd67",
   "metadata": {},
   "source": [
    "### 7. validating roman numerals"
   ]
  },
  {
   "cell_type": "code",
   "execution_count": null,
   "id": "d1c49352-c9e6-4e20-a274-7a46aafa61de",
   "metadata": {},
   "outputs": [],
   "source": [
    "\n",
    "regex_pattern = r\"^(M){0,3}(CM)?(CD|D)?(C){0,3}(XC)?(XL|L)?(X){0,3}(IX)?(IV|V)?(I){0,3}$\"\n",
    "\n"
   ]
  },
  {
   "cell_type": "markdown",
   "id": "cddc9e98-38a2-4b09-ab93-dc03328eeed3",
   "metadata": {},
   "source": [
    "### 8. validating phone numerals"
   ]
  },
  {
   "cell_type": "code",
   "execution_count": null,
   "id": "44bef6b0-1aff-4368-bce0-68c426d2bce9",
   "metadata": {},
   "outputs": [],
   "source": [
    "# Enter your code here. Read input from STDIN. Print output to STDOUT\n",
    "\n",
    "import re\n",
    "\n",
    "N = int(input())\n",
    "for _ in range(N):\n",
    "    phone_number = input().strip()\n",
    "    if re.match(r'^[789]\\d{9}$', phone_number):\n",
    "        print(\"YES\")\n",
    "    else:\n",
    "        print(\"NO\")\n"
   ]
  },
  {
   "cell_type": "markdown",
   "id": "a8fc128e-ec89-4514-8672-03ca23c5327d",
   "metadata": {},
   "source": [
    "### 9. validating and parsing email addressess"
   ]
  },
  {
   "cell_type": "code",
   "execution_count": null,
   "id": "c1244071-8051-4516-af99-62565d6e898f",
   "metadata": {},
   "outputs": [],
   "source": [
    "# Enter your code here. Read input from STDIN. Print output to STDOUT\n",
    "\n",
    "import re\n",
    "\n",
    "n = int(input())\n",
    "email_pattern = re.compile(r\"^<([a-zA-Z0-9%+][a-zA-Z0-9._%+-]*@[a-zA-Z]+\\.[a-zA-Z]{1,3})>$\")\n",
    "\n",
    "for _ in range(n):\n",
    "    name, email = input().split(maxsplit=1)\n",
    "    email = email.strip()\n",
    "    if email_pattern.match(email):\n",
    "        print(f\"{name} {email}\")\n"
   ]
  },
  {
   "cell_type": "markdown",
   "id": "ff62bba9-5796-45d1-9dda-4da5f3b92777",
   "metadata": {},
   "source": [
    "### 10. Hex Color Code"
   ]
  },
  {
   "cell_type": "code",
   "execution_count": null,
   "id": "64ebac4f-30bb-4ad2-a951-d7d0577245e5",
   "metadata": {},
   "outputs": [],
   "source": [
    "# Enter your code here. Read input from STDIN. Print output to STDOUT\n",
    "\n",
    "import re\n",
    "pattern = r'#[\\da-fA-F]{3,6}'\n",
    "res = []\n",
    "for i in range(int(input())):\n",
    "    lines = input()\n",
    "    if len(lines)==0:\n",
    "        continue\n",
    "    if lines[0] != '#':\n",
    "        m = re.findall(pattern, lines)\n",
    "        [res.append(j) for j in m]\n",
    "print(*res, sep='\\n')\n"
   ]
  },
  {
   "cell_type": "markdown",
   "id": "d3d2e194-08ee-42a9-a38e-b382d0c22081",
   "metadata": {},
   "source": [
    "### 11. HTML Parser part 1"
   ]
  },
  {
   "cell_type": "code",
   "execution_count": null,
   "id": "1e000beb-c145-49df-9e78-16f436e4522d",
   "metadata": {},
   "outputs": [],
   "source": [
    "# Enter your code here. Read input from STDIN. Print output to STDOUT\n",
    "\n",
    "from html.parser import HTMLParser\n",
    "\n",
    "class MyHTMLParser(HTMLParser):\n",
    "    def handle_starttag(self, tag, attrs):\n",
    "        print(\"Start :\", tag)\n",
    "        if attrs:\n",
    "            for each in attrs:\n",
    "                print('-> '+' > '.join(list(map(str, each))))\n",
    "\n",
    "    def handle_endtag(self, tag):\n",
    "        print(\"End   :\", tag)\n",
    "        \n",
    "    def handle_startendtag(self, tag, attrs):\n",
    "        print(\"Empty :\", tag)\n",
    "        if attrs:\n",
    "            for each in attrs:\n",
    "                print('-> '+' > '.join(list(map(str, each))))\n",
    "\n",
    "parser = MyHTMLParser()\n",
    "for each in range(int(input())):\n",
    "    parser.feed(input())\n"
   ]
  },
  {
   "cell_type": "markdown",
   "id": "4821fc5d-584e-4891-b9b7-33c9a4b1aef5",
   "metadata": {},
   "source": [
    "### 12. HTML Parser - part 2"
   ]
  },
  {
   "cell_type": "code",
   "execution_count": null,
   "id": "1e314583-75f7-431f-81c6-d38cfb0cdc6e",
   "metadata": {},
   "outputs": [],
   "source": [
    "from html.parser import HTMLParser\n",
    "\n",
    "class MyHTMLParser(HTMLParser):\n",
    "    def handle_comment(self, data):\n",
    "        if '\\n' in data:\n",
    "            print(\">>> Multi-line Comment\")\n",
    "            print(data)\n",
    "        else:\n",
    "            print(\">>> Single-line Comment\")\n",
    "            print(data)\n",
    "            \n",
    "    def handle_data(self, data):\n",
    "        if '\\n' not in data:\n",
    "            print(\">>> Data\")\n",
    "            print(data)\n",
    "            \n",
    "\n",
    "html = \"\"\n",
    "for i in range(int(input())):\n",
    "    html += input().rstrip()\n",
    "    html += '\\n'\n",
    "    \n",
    "parser = MyHTMLParser()\n",
    "parser.feed(html)\n",
    "parser.close()\n",
    "  \n",
    "  \n",
    "  "
   ]
  },
  {
   "cell_type": "markdown",
   "id": "89eb83d9-cdcf-48f0-8a9a-e432b8a298d4",
   "metadata": {},
   "source": [
    "### 13. Detect HTML Tags, Atrr and Atrr values"
   ]
  },
  {
   "cell_type": "code",
   "execution_count": null,
   "id": "24a5e136-1101-4f94-9d42-63fe328453ba",
   "metadata": {},
   "outputs": [],
   "source": [
    "# Enter your code here. Read input from STDIN. Print output to STDOUT\n",
    "\n",
    "from html.parser import HTMLParser\n",
    "\n",
    "class MyHTMLParser(HTMLParser):\n",
    "    def handle_starttag(self, tag, att):\n",
    "        print(tag)\n",
    "        self.print_atributes(att)\n",
    "    def print_atributes(self, att):\n",
    "        for name, val in att:\n",
    "            print(f'-> {name} > {val}')\n",
    "        \n",
    "\n",
    "parser = MyHTMLParser()\n",
    "for _ in range(int(input())):\n",
    "    parser.feed(input())\n"
   ]
  },
  {
   "cell_type": "markdown",
   "id": "b76df918-f577-4439-bf6e-ab990da8938b",
   "metadata": {},
   "source": [
    "### 14. Validating UID"
   ]
  },
  {
   "cell_type": "code",
   "execution_count": null,
   "id": "527a5531-c66b-4d7a-bef6-ec1a79179387",
   "metadata": {},
   "outputs": [],
   "source": [
    "# Enter your code here. Read input from STDIN. Print output to STDOUT\n",
    "\n",
    "import re\n",
    "\n",
    "def validate_uid(uid):\n",
    "    valid_alpha_count = bool(len(re.findall(r\"[A-Z]\", uid)) >= 2)\n",
    "    valid_digit_count = bool(len(re.findall(r\"\\d\", uid)) >= 3)\n",
    "    alnum_only = bool(len(re.findall(r\"[^\\w]\", uid)) == 0)\n",
    "    no_repeat = not bool(re.search(r\"(\\w).*\\1\", uid))\n",
    "    valid_char_count = bool(len(uid) == 10)\n",
    "    return all([valid_alpha_count, valid_digit_count, alnum_only, no_repeat, valid_char_count])\n",
    "    \n",
    "testcase_count = int(input())\n",
    "for _ in range(testcase_count):\n",
    "    uid = input()\n",
    "    if validate_uid(uid) == True:\n",
    "        print(\"Valid\")\n",
    "    else:\n",
    "        print(\"Invalid\")\n"
   ]
  },
  {
   "cell_type": "markdown",
   "id": "c17f9f11-72f7-4087-a082-89f43870d108",
   "metadata": {},
   "source": [
    "### 15. Validating Credit Card Numbers"
   ]
  },
  {
   "cell_type": "code",
   "execution_count": null,
   "id": "7ff099a1-ab1c-41ee-ac7e-4e8de77aa487",
   "metadata": {},
   "outputs": [],
   "source": [
    "# Enter your code here. Read input from STDIN. Print output to STDOUT\n",
    "\n",
    "import re\n",
    "\n",
    "def check_cb(cnum):\n",
    "    if not bool(re.match(r\"^[4,5,6]\",cnum)):return \"Invalid\"\n",
    "    if not bool(re.match(r\"^\\d{4}-\\d{4}-\\d{4}-\\d{4}$|^\\d{4}\\d{4}\\d{4}\\d{4}$\",cnum)):return \"Invalid\"\n",
    "    if bool(re.search(r'(.)\\1{3}',re.sub(r'\\D', '', cnum))):return \"Invalid\"\n",
    "    return \"Valid\"   \n",
    "n = int(input())\n",
    "print(\"\\n\".join([check_cb(input()) for _ in range(n)]))\n"
   ]
  },
  {
   "cell_type": "markdown",
   "id": "d3904a50-86c7-45f6-b3ba-008ab1bd64e7",
   "metadata": {},
   "source": [
    "### 16. Validating Postal Codes"
   ]
  },
  {
   "cell_type": "code",
   "execution_count": null,
   "id": "370863e2-a4c9-4d29-82b1-df4eb296c20d",
   "metadata": {},
   "outputs": [],
   "source": [
    "regex_integer_in_range = r\"^[0-9]{6}$\"\n",
    "regex_alternating_repetitive_digit_pair = r\"([0-9]{1})(?=[0-9]{1}\\1)\"    \n"
   ]
  },
  {
   "cell_type": "markdown",
   "id": "8fd136da-3e13-4dd3-ac23-c0f81ba118de",
   "metadata": {},
   "source": [
    "### 17. Matrix Script"
   ]
  },
  {
   "cell_type": "code",
   "execution_count": null,
   "id": "e78d0923-5e40-4303-beac-03bd22180765",
   "metadata": {},
   "outputs": [],
   "source": [
    "#!/bin/python3\n",
    "\n",
    "import math\n",
    "import os\n",
    "import random\n",
    "import re\n",
    "import sys\n",
    "\n",
    "\n",
    "\n",
    "first_multiple_input = input().rstrip().split()\n",
    "n = int(first_multiple_input[0])\n",
    "m = int(first_multiple_input[1])\n",
    "\n",
    "regex = re.compile(r'(?<=\\w)([\\W]+)(?=\\w)')\n",
    "matrix = [None] * n * m\n",
    "\n",
    "for x in range(n):\n",
    "    matrix_item = [x for x in input()]\n",
    "    for y in range(m):\n",
    "        matrix[x+(n*y)] = matrix_item[y]\n",
    " \n",
    "print(re.sub(regex, ' ', ''.join(matrix)))\n"
   ]
  },
  {
   "cell_type": "markdown",
   "id": "d09d0976-a2ac-44ee-9e5d-82662c1f8bbf",
   "metadata": {},
   "source": [
    " ## **XML** Total 2"
   ]
  },
  {
   "cell_type": "markdown",
   "id": "e47c2506-faa6-4946-b033-1866377c0c5e",
   "metadata": {},
   "source": [
    "### 1. XML - Find the score"
   ]
  },
  {
   "cell_type": "code",
   "execution_count": 227,
   "id": "21cff20b-b140-4c00-bd8a-353a4794c24f",
   "metadata": {},
   "outputs": [],
   "source": [
    "\n",
    "\n",
    "def get_attr_number(node):\n",
    "    attrs = len(node.attrib)\n",
    "    if len(node) == 0:\n",
    "        return attrs\n",
    "    return attrs + sum(get_attr_number(child) for child in node)\n",
    "\n"
   ]
  },
  {
   "cell_type": "markdown",
   "id": "a8a4b1a4-99d5-49ee-bae3-f61bd6b40136",
   "metadata": {},
   "source": [
    "### 2 XML - Find the Maximum"
   ]
  },
  {
   "cell_type": "code",
   "execution_count": 229,
   "id": "9ba5ff30-bba8-4231-9ac1-4d1b8b2f982b",
   "metadata": {},
   "outputs": [],
   "source": [
    "\n",
    "\n",
    "maxdepth = 0\n",
    "def depth(elem, level= 0):\n",
    "    global maxdepth\n",
    "    [depth(e,level+1) for e in elem]\n",
    "    maxdepth = max(maxdepth, level + 1)\n",
    "\n"
   ]
  },
  {
   "cell_type": "markdown",
   "id": "90d651b0-5bde-42ce-b792-8ab6f57e9592",
   "metadata": {},
   "source": [
    " ## **Closures and Decorations** Total 2"
   ]
  },
  {
   "cell_type": "markdown",
   "id": "53b6224a-a641-442d-8ebb-e5bcc6678fba",
   "metadata": {},
   "source": [
    "### 1. Standardize Mobile Number Using Decorators"
   ]
  },
  {
   "cell_type": "code",
   "execution_count": null,
   "id": "edcade22-c5b3-400f-b7cf-f4f96be3d8f6",
   "metadata": {},
   "outputs": [],
   "source": [
    "from re import sub\n",
    "\n",
    "def wrapper(f):\n",
    "    r = r\"^(?:\\+?91|0)??(\\d{5})(\\d{5})$\"\n",
    "    s = r\"+91 \\1 \\2\"\n",
    "    \n",
    "    def fun(li):\n",
    "        return f([sub(r, s, i) for i in li])\n",
    "    return fun\n",
    "\n"
   ]
  },
  {
   "cell_type": "markdown",
   "id": "5755d92b-4ec0-44e6-a858-20e2b5d8aa44",
   "metadata": {},
   "source": [
    "### 2. Decorators 2 - Name Directory"
   ]
  },
  {
   "cell_type": "code",
   "execution_count": null,
   "id": "b5687de1-5716-4c3e-86bd-cde202bae615",
   "metadata": {},
   "outputs": [],
   "source": [
    "\n",
    "\n",
    "def person_lister(f):\n",
    "    def inner(people):\n",
    "        # complete the functiondef person_lister(f):\n",
    "        return [f(p) for p in sorted(people,key = lambda x: int(x[-2]))] \n",
    "    return inner\n",
    "\n"
   ]
  },
  {
   "cell_type": "markdown",
   "id": "f7fac7f1-44c7-4298-9901-75c887b96cc7",
   "metadata": {},
   "source": [
    " ## **Numpy** Total 15"
   ]
  },
  {
   "cell_type": "markdown",
   "id": "7d0593aa-fa0b-4a6f-842a-878b21460296",
   "metadata": {},
   "source": [
    "### 1. Arrays"
   ]
  },
  {
   "cell_type": "code",
   "execution_count": 232,
   "id": "7a1b8a3f-e9bf-45b6-be4d-549b2f316712",
   "metadata": {},
   "outputs": [],
   "source": [
    "\n",
    "\n",
    "def arrays(arr):\n",
    "    # complete this function\n",
    "    # use numpy.array\n",
    "    arr = arr[::-1]\n",
    "    a = numpy.array(arr, float)\n",
    "    return a\n",
    "    \n",
    "    "
   ]
  },
  {
   "cell_type": "markdown",
   "id": "a5c3364e-6c9d-4b0b-8a2a-aa588263e7da",
   "metadata": {},
   "source": [
    "### 2. Shape and reshape"
   ]
  },
  {
   "cell_type": "code",
   "execution_count": 234,
   "id": "9b817d60-d8dd-4c58-a08d-4934f9f05b8c",
   "metadata": {},
   "outputs": [
    {
     "name": "stdin",
     "output_type": "stream",
     "text": [
      " 1 2 3 4 5 6 7 8 9\n"
     ]
    },
    {
     "name": "stdout",
     "output_type": "stream",
     "text": [
      "[[1 2 3]\n",
      " [4 5 6]\n",
      " [7 8 9]]\n"
     ]
    }
   ],
   "source": [
    "import numpy\n",
    "\n",
    "s_input = list(map(int, input().split()))\n",
    "arr = numpy.array(s_input)\n",
    "\n",
    "print (numpy.reshape(arr, (3,3)))\n",
    "\n"
   ]
  },
  {
   "cell_type": "markdown",
   "id": "3ff016cf-945b-43c1-be0f-132f192b5069",
   "metadata": {},
   "source": [
    "### 3. Transpose and flattern"
   ]
  },
  {
   "cell_type": "code",
   "execution_count": 236,
   "id": "f06efe23-3c19-4226-89e5-59e968220b2f",
   "metadata": {},
   "outputs": [
    {
     "name": "stdin",
     "output_type": "stream",
     "text": [
      " 2 2\n",
      " 1 2\n",
      " 3 4\n"
     ]
    },
    {
     "name": "stdout",
     "output_type": "stream",
     "text": [
      "[[1 3]\n",
      " [2 4]]\n",
      "[1 2 3 4]\n"
     ]
    }
   ],
   "source": [
    "import numpy\n",
    "\n",
    "\n",
    "r, c = map(int, input().split())\n",
    "\n",
    "arr = [list(map(int, input().split())) for i in range(r)]\n",
    "\n",
    "arr = numpy.array(arr, dtype=int)\n",
    "print(numpy.transpose(arr))\n",
    "\n",
    "print(arr.flatten())\n"
   ]
  },
  {
   "cell_type": "markdown",
   "id": "bbccccc3-31b0-4d91-a58d-f61b831c0a10",
   "metadata": {},
   "source": [
    "### 4. Concatenate"
   ]
  },
  {
   "cell_type": "code",
   "execution_count": null,
   "id": "16d83ad7-1928-4e7f-a275-658efb715acc",
   "metadata": {},
   "outputs": [],
   "source": [
    "import numpy\n",
    "\n",
    "n, m, p = map(int, input().split())\n",
    "a1 = numpy.vstack([list(map(int, input().split())) for p in range(n)])\n",
    "a2 = numpy.vstack([list(map(int, input().split())) for p in range(m)])\n",
    "print(numpy.concatenate((a1, a2), axis=0))\n",
    "\n",
    "\n"
   ]
  },
  {
   "cell_type": "markdown",
   "id": "e58586d7-2df2-4f13-8b66-84a2f7f32de8",
   "metadata": {},
   "source": [
    "### 5. Zeros and ones"
   ]
  },
  {
   "cell_type": "code",
   "execution_count": 238,
   "id": "e1f4121e-232d-43f8-aa1c-7a76a41a36f1",
   "metadata": {},
   "outputs": [
    {
     "name": "stdin",
     "output_type": "stream",
     "text": [
      " 3 3 3 \n"
     ]
    },
    {
     "name": "stdout",
     "output_type": "stream",
     "text": [
      "[[[0 0 0]\n",
      "  [0 0 0]\n",
      "  [0 0 0]]\n",
      "\n",
      " [[0 0 0]\n",
      "  [0 0 0]\n",
      "  [0 0 0]]\n",
      "\n",
      " [[0 0 0]\n",
      "  [0 0 0]\n",
      "  [0 0 0]]]\n",
      "[[[1 1 1]\n",
      "  [1 1 1]\n",
      "  [1 1 1]]\n",
      "\n",
      " [[1 1 1]\n",
      "  [1 1 1]\n",
      "  [1 1 1]]\n",
      "\n",
      " [[1 1 1]\n",
      "  [1 1 1]\n",
      "  [1 1 1]]]\n"
     ]
    }
   ],
   "source": [
    "import numpy \n",
    "\n",
    "M = list(map(int, input().split()))\n",
    "print(numpy.zeros(M, dtype=int))\n",
    "print(numpy.ones(M, dtype=int))\n"
   ]
  },
  {
   "cell_type": "markdown",
   "id": "15adcca8-e134-4584-98dc-c37065a4d9da",
   "metadata": {},
   "source": [
    "### 6. Eye and identity"
   ]
  },
  {
   "cell_type": "code",
   "execution_count": 240,
   "id": "a50d7da4-0228-4132-b118-3abfb7452842",
   "metadata": {},
   "outputs": [
    {
     "name": "stdin",
     "output_type": "stream",
     "text": [
      " 3 3\n"
     ]
    },
    {
     "name": "stdout",
     "output_type": "stream",
     "text": [
      "[[ 1.  0.  0.]\n",
      " [ 0.  1.  0.]\n",
      " [ 0.  0.  1.]]\n"
     ]
    }
   ],
   "source": [
    "import numpy\n",
    "numpy.set_printoptions(legacy='1.13')\n",
    "N, M = map(int, input().split())\n",
    "\n",
    "print (numpy.eye(N, M,))\n",
    "\n",
    "\n"
   ]
  },
  {
   "cell_type": "markdown",
   "id": "2c54eddd-8307-46bb-9643-52dcef823e16",
   "metadata": {},
   "source": [
    "### 7. Array Mathematics"
   ]
  },
  {
   "cell_type": "code",
   "execution_count": 242,
   "id": "b6b5fcf3-8ced-44af-8e7d-e120c706033a",
   "metadata": {},
   "outputs": [
    {
     "name": "stdin",
     "output_type": "stream",
     "text": [
      " 1 4\n",
      " 1 2 3 4\n",
      " 5 6 7 8\n"
     ]
    },
    {
     "name": "stdout",
     "output_type": "stream",
     "text": [
      "[[ 6  8 10 12]]\n",
      "[[-4 -4 -4 -4]]\n",
      "[[ 5 12 21 32]]\n",
      "[[0 0 0 0]]\n",
      "[[1 2 3 4]]\n",
      "[[    1    64  2187 65536]]\n"
     ]
    }
   ],
   "source": [
    "import numpy as np\n",
    "\n",
    "m, n = map(int, input().split())\n",
    "\n",
    "A = np.array([[x for x in input().split()] for i in range(m)], int)\n",
    "\n",
    "B = np.array([[x for x in input().split()] for i in range(m)], int)\n",
    "\n",
    "print(A+B)\n",
    "print(A-B)\n",
    "print(A*B)\n",
    "print(A//B)\n",
    "print(A%B)\n",
    "print(A**B)"
   ]
  },
  {
   "cell_type": "markdown",
   "id": "872c4684-64c6-4d7d-b5a0-8746cc0de1a0",
   "metadata": {},
   "source": [
    "### 8. Floor, ceil and rint"
   ]
  },
  {
   "cell_type": "code",
   "execution_count": null,
   "id": "83c46858-679c-48d9-829e-0196d1055959",
   "metadata": {},
   "outputs": [],
   "source": [
    "import numpy \n",
    "numpy.set_printoptions(legacy=\"1.13\") \n",
    "A=list(map(float,input().split())) \n",
    "arr=numpy.array(A) \n",
    "print(numpy.floor(arr)) \n",
    "print(numpy.ceil(arr)) \n",
    "print(numpy.rint(arr))\n"
   ]
  },
  {
   "cell_type": "markdown",
   "id": "3683cc5a-d423-4612-b4b9-4d30edad8d53",
   "metadata": {},
   "source": [
    "### 9. Sun and prod"
   ]
  },
  {
   "cell_type": "code",
   "execution_count": null,
   "id": "e4cc4ffa-cc40-4d8e-844b-9f014cb35840",
   "metadata": {},
   "outputs": [],
   "source": [
    "import numpy as np\n",
    "\n",
    "m,n = map(int, input().split())\n",
    "\n",
    "arr = np.array([list(map(int, input().split())) for _ in range(m)])\n",
    "\n",
    "sum= np.sum(arr, 0)\n",
    "\n",
    "print(np.prod(sum))\n"
   ]
  },
  {
   "cell_type": "markdown",
   "id": "b790fe56-5982-4b5f-9cd5-ddc435efd934",
   "metadata": {},
   "source": [
    "### 10. Min and Max"
   ]
  },
  {
   "cell_type": "code",
   "execution_count": null,
   "id": "d6339ff1-812f-4569-9f90-9a92feb09564",
   "metadata": {},
   "outputs": [],
   "source": [
    "import numpy as np\n",
    "\n",
    "x, y = map(int, input().split())\n",
    "\n",
    "data = [list(map(int, input().split())) for _ in range(x)]\n",
    "\n",
    "data = np.array(data)\n",
    "\n",
    "result = np.min(data, axis = 1)\n",
    "\n",
    "print(np.max(result))\n",
    "\n"
   ]
  },
  {
   "cell_type": "markdown",
   "id": "6da4cd57-1e06-4e60-9390-b883d3d1dd72",
   "metadata": {},
   "source": [
    "### 11. Mean, var and std"
   ]
  },
  {
   "cell_type": "code",
   "execution_count": null,
   "id": "7a198e0f-33f4-43da-b6e4-3b71d0a9b28b",
   "metadata": {},
   "outputs": [],
   "source": [
    "import numpy\n",
    "\n",
    "import numpy as np\n",
    "\n",
    "x, y = map(int, input().split())\n",
    "\n",
    "matrix = [list(map(int, input().split())) for i in range(x)]\n",
    "\n",
    "matrix = np.array(matrix)\n",
    "\n",
    "print(np.mean(matrix, axis = 1))\n",
    "\n",
    "print(np.var(matrix, axis = 0))\n",
    "\n",
    "print(np.around(np.std(matrix, axis = None),11))\n"
   ]
  },
  {
   "cell_type": "markdown",
   "id": "f86a8a78-c870-43f3-ae78-3b1f1889b332",
   "metadata": {},
   "source": [
    "### 12. Dot and cross"
   ]
  },
  {
   "cell_type": "code",
   "execution_count": null,
   "id": "54151bf8-1255-45b2-820e-6f4fd177cc4f",
   "metadata": {},
   "outputs": [],
   "source": [
    "import numpy as np\n",
    "\n",
    "n = int(input())\n",
    "\n",
    "A =list(list(map(int, input().split())) for _ in range(n))\n",
    "\n",
    "B =list(list(map(int, input().split())) for _ in range(n))\n",
    "\n",
    "print(np.array(A)@(np.array(B)))\n",
    "\n"
   ]
  },
  {
   "cell_type": "markdown",
   "id": "7911d90f-2df9-4044-9afd-d849559ccb3a",
   "metadata": {},
   "source": [
    "### 13. Inner and outer"
   ]
  },
  {
   "cell_type": "code",
   "execution_count": 244,
   "id": "e9050cd1-8e4b-4b1c-b522-2624cb6a96ca",
   "metadata": {},
   "outputs": [
    {
     "name": "stdin",
     "output_type": "stream",
     "text": [
      " 0 1 \n",
      " 2 3\n"
     ]
    },
    {
     "name": "stdout",
     "output_type": "stream",
     "text": [
      "3\n",
      "[[0 0]\n",
      " [2 3]]\n"
     ]
    }
   ],
   "source": [
    "import numpy as np\n",
    "\n",
    "array_1 = np.array(input().split(), int)\n",
    "array_2 = np.array(input().split(), int)\n",
    "\n",
    "print(np.inner(array_1, array_2))\n",
    "print(np.outer(array_1, array_2))\n",
    "\n"
   ]
  },
  {
   "cell_type": "markdown",
   "id": "1dfc324c-1c7d-4f32-9c2d-3230c14bb3b6",
   "metadata": {},
   "source": [
    "### 14. Polynomials"
   ]
  },
  {
   "cell_type": "code",
   "execution_count": 246,
   "id": "5e0baff0-f038-4661-ac70-454c3facb286",
   "metadata": {},
   "outputs": [
    {
     "name": "stdin",
     "output_type": "stream",
     "text": [
      " 1.1 2 3\n",
      " 0\n"
     ]
    },
    {
     "name": "stdout",
     "output_type": "stream",
     "text": [
      "3.0\n"
     ]
    }
   ],
   "source": [
    "import numpy as np\n",
    "\n",
    "p=list(map(float,input().split())) \n",
    "x=int(input()) \n",
    "arr=np.array(p) \n",
    "print(np.polyval(arr,x))\n"
   ]
  },
  {
   "cell_type": "markdown",
   "id": "7d8dfa9b-ad93-4956-bbe6-1621bae0cfcc",
   "metadata": {},
   "source": [
    "### 13. Linear Algebra"
   ]
  },
  {
   "cell_type": "code",
   "execution_count": 248,
   "id": "446618e7-a409-409e-80d7-276089c42e26",
   "metadata": {},
   "outputs": [
    {
     "name": "stdin",
     "output_type": "stream",
     "text": [
      " 2\n",
      " 1.1 1.1\n",
      " 1.1 1.1\n"
     ]
    },
    {
     "name": "stdout",
     "output_type": "stream",
     "text": [
      "0.0\n"
     ]
    }
   ],
   "source": [
    "import numpy as np\n",
    "\n",
    "n = int(input())\n",
    "arr = []\n",
    "for _ in range(n): \n",
    "    a = [list(map(float, input().split()))] \n",
    "    arr.extend(a)\n",
    "print(round(np.linalg.det(np.array(arr)), 2))\n"
   ]
  }
 ],
 "metadata": {
  "kernelspec": {
   "display_name": "Python 3 (ipykernel)",
   "language": "python",
   "name": "python3"
  },
  "language_info": {
   "codemirror_mode": {
    "name": "ipython",
    "version": 3
   },
   "file_extension": ".py",
   "mimetype": "text/x-python",
   "name": "python",
   "nbconvert_exporter": "python",
   "pygments_lexer": "ipython3",
   "version": "3.12.4"
  }
 },
 "nbformat": 4,
 "nbformat_minor": 5
}
