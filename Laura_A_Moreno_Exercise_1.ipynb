{
 "cells": [
  {
   "cell_type": "markdown",
   "id": "3ef0e88e-8d12-45af-9ce9-c39a0bb0e4e9",
   "metadata": {},
   "source": [
    "# Laura_Alejandra_Moreno_Rodriguez_Exercise_1\n",
    "\n"
   ]
  },
  {
   "cell_type": "markdown",
   "id": "c396a2f0-944a-4992-8815-3e02e32ec380",
   "metadata": {},
   "source": [
    "## **Introduction** Total 7"
   ]
  },
  {
   "cell_type": "markdown",
   "id": "b18114a9-77e0-4985-8114-6093319c45ad",
   "metadata": {},
   "source": [
    "### 1. Say \"Hello, World!\" With Python"
   ]
  },
  {
   "cell_type": "code",
   "execution_count": 12,
   "id": "8727cde9-a3fd-466c-b648-50ba30be8617",
   "metadata": {},
   "outputs": [
    {
     "name": "stdout",
     "output_type": "stream",
     "text": [
      "Hello, World!\n"
     ]
    }
   ],
   "source": [
    "#Say \"Hello, World!\" With Python _LAMR\n",
    "if __name__ == '__main__':\n",
    "    print(\"Hello, World!\")"
   ]
  },
  {
   "cell_type": "markdown",
   "id": "d4655028-628c-47e0-a536-037b2649f415",
   "metadata": {},
   "source": [
    "### 2. Python If-Else"
   ]
  },
  {
   "cell_type": "code",
   "execution_count": 18,
   "id": "46f9702a-a207-4f25-9f23-6891d5f2f417",
   "metadata": {},
   "outputs": [
    {
     "name": "stdin",
     "output_type": "stream",
     "text": [
      " 38\n"
     ]
    },
    {
     "name": "stdout",
     "output_type": "stream",
     "text": [
      "Not Weird\n"
     ]
    }
   ],
   "source": [
    "# Python If-Else _LAMR\n",
    "import math\n",
    "import os\n",
    "import random\n",
    "import re\n",
    "import sys\n",
    "\n",
    "if __name__ == '__main__':\n",
    "    n = int(input().strip())\n",
    "    if n % 2==1: \n",
    "        print(\"Weird\") #n is odd\n",
    "    else:  #n is not odd. It's even.\n",
    "        if 2<= n <=5:\n",
    "            print(\"Not Weird\")\n",
    "        elif 6<= n <=20:\n",
    "            print(\"Weird\")\n",
    "        else:\n",
    "            print(\"Not Weird\")"
   ]
  },
  {
   "cell_type": "markdown",
   "id": "7667c16f-c643-4d0e-ab07-d0a2ca36baec",
   "metadata": {},
   "source": [
    "### 3. Arithmetic Operators"
   ]
  },
  {
   "cell_type": "code",
   "execution_count": 9,
   "id": "d9090b1d-ab61-4cd2-a6c0-ab623ed7c4f4",
   "metadata": {},
   "outputs": [
    {
     "name": "stdin",
     "output_type": "stream",
     "text": [
      " 2\n",
      " 3\n"
     ]
    },
    {
     "name": "stdout",
     "output_type": "stream",
     "text": [
      "5\n",
      "-1\n",
      "6\n"
     ]
    }
   ],
   "source": [
    "#Arithmetic Operators _LAMR\n",
    "a = int(input())\n",
    "    b = int(input())\n",
    "    print(a+b) #addition\n",
    "    print(a-b)  #diference\n",
    "    print(a*b)  #product\n"
   ]
  },
  {
   "cell_type": "markdown",
   "id": "cda1c2eb-0453-4c4a-948a-905ed8b2ab26",
   "metadata": {},
   "source": [
    "### 4. Python: Division"
   ]
  },
  {
   "cell_type": "code",
   "execution_count": 21,
   "id": "2ad47d84-339d-45ff-bac6-a3033741efc8",
   "metadata": {},
   "outputs": [
    {
     "name": "stdin",
     "output_type": "stream",
     "text": [
      " 3\n",
      " 5\n"
     ]
    },
    {
     "name": "stdout",
     "output_type": "stream",
     "text": [
      "0\n",
      "0.6\n"
     ]
    }
   ],
   "source": [
    "#Python: Division_lAMR\n",
    "a = int(input())\n",
    "b = int(input())\n",
    "print(a//b) #integer division\n",
    "print(a/b) #float division"
   ]
  },
  {
   "cell_type": "markdown",
   "id": "7ba26985-fb22-46de-a486-c68790efbf3c",
   "metadata": {},
   "source": [
    "### 5. Loops"
   ]
  },
  {
   "cell_type": "code",
   "execution_count": 36,
   "id": "6b7af510-9257-4df9-bdef-2448648ec0a5",
   "metadata": {},
   "outputs": [
    {
     "name": "stdin",
     "output_type": "stream",
     "text": [
      " 5\n"
     ]
    },
    {
     "name": "stdout",
     "output_type": "stream",
     "text": [
      "0\n",
      "1\n",
      "4\n",
      "9\n",
      "16\n"
     ]
    }
   ],
   "source": [
    "#Loops_LAMR\n",
    "n = int(input())\n",
    "for i in range(n):\n",
    "    print((i**2)) \n"
   ]
  },
  {
   "cell_type": "markdown",
   "id": "13469550-6490-44b8-87dc-f170b788ea52",
   "metadata": {},
   "source": [
    "### 6. Write a function: leap year"
   ]
  },
  {
   "cell_type": "code",
   "execution_count": 50,
   "id": "548ca606-bea5-4467-b4ab-08429c226a88",
   "metadata": {},
   "outputs": [
    {
     "name": "stdin",
     "output_type": "stream",
     "text": [
      " 2000\n"
     ]
    },
    {
     "name": "stdout",
     "output_type": "stream",
     "text": [
      "True\n"
     ]
    }
   ],
   "source": [
    "#Write a function_LAMR\n",
    "#Leaf year\n",
    "def is_leap(year):\n",
    "    leap = False\n",
    "    \n",
    "    # Write your logic here\n",
    "    if year % 4 == 0:\n",
    "        if year % 100 == 0:\n",
    "            if year % 400 ==0:\n",
    "                leap = True\n",
    "            else:\n",
    "                leap =False\n",
    "        else:\n",
    "            leap = True\n",
    "    else:\n",
    "        leap =False\n",
    "    \n",
    "    return leap\n",
    "\n",
    "year = int(input())\n",
    "print(is_leap(year))"
   ]
  },
  {
   "cell_type": "markdown",
   "id": "8e104275-84ff-485c-a046-020dbe8cc287",
   "metadata": {},
   "source": [
    "### 7. Print function"
   ]
  },
  {
   "cell_type": "code",
   "execution_count": 61,
   "id": "03504306-86d1-49da-9637-da597078c7c4",
   "metadata": {},
   "outputs": [
    {
     "name": "stdin",
     "output_type": "stream",
     "text": [
      " 5\n"
     ]
    },
    {
     "name": "stdout",
     "output_type": "stream",
     "text": [
      "12345\n"
     ]
    }
   ],
   "source": [
    "#Print Function_LAMR\n",
    "def print_numbers_as_string(n):\n",
    "    result = ''  \n",
    "    for i in range(1, n + 1):  \n",
    "        result += str(i)  \n",
    "    print(result)  \n",
    "\n",
    "# Read input \n",
    "n = int(input())\n",
    "print_numbers_as_string(n)"
   ]
  },
  {
   "cell_type": "markdown",
   "id": "023c7bae-95ce-4602-8343-47a4b19063b0",
   "metadata": {},
   "source": [
    "## **Basic Data Types** Total 6\n"
   ]
  },
  {
   "cell_type": "markdown",
   "id": "818687f2-47c1-4408-a2d1-95db44cd5e50",
   "metadata": {},
   "source": [
    "### 1. List Comprehension"
   ]
  },
  {
   "cell_type": "code",
   "execution_count": 7,
   "id": "5f8d677e-5a2b-425f-9b4d-f4239350dc67",
   "metadata": {},
   "outputs": [
    {
     "name": "stdin",
     "output_type": "stream",
     "text": [
      " 1\n",
      " 1\n",
      " 2\n",
      " 3\n"
     ]
    },
    {
     "name": "stdout",
     "output_type": "stream",
     "text": [
      "[[0, 0, 0], [0, 0, 1], [0, 0, 2], [0, 1, 0], [0, 1, 1], [1, 0, 0], [1, 0, 1], [1, 1, 0], [1, 1, 2]]\n"
     ]
    }
   ],
   "source": [
    "#List Comprehensions_LAMR\n",
    "x = int(input())\n",
    "y = int(input())\n",
    "z = int(input())\n",
    "n = int(input())\n",
    "coordinates = [[i, j, k] for i in range(x + 1)\n",
    "               for j in range(y + 1) \n",
    "               for k in range(z + 1) \n",
    "               if i + j + k != n]\n",
    "\n",
    "\n",
    "print(coordinates)"
   ]
  },
  {
   "cell_type": "markdown",
   "id": "ca590161-8e7f-4562-bfbd-cbf43171b89b",
   "metadata": {},
   "source": [
    "### 2. Find the Runner-Up Score!"
   ]
  },
  {
   "cell_type": "code",
   "execution_count": 3,
   "id": "baae918a-6edd-4168-934b-26c9ac94cf4a",
   "metadata": {},
   "outputs": [
    {
     "name": "stdin",
     "output_type": "stream",
     "text": [
      " 5\n",
      " 2 3 6 6 5\n"
     ]
    },
    {
     "name": "stdout",
     "output_type": "stream",
     "text": [
      "5\n"
     ]
    }
   ],
   "source": [
    "#Find the Runner-Up Score!_LAMR\n",
    "if __name__ == '__main__':\n",
    "    n = int(input())\n",
    "    arr = map(int, input().split())\n",
    "\n",
    "    run = list(dict.fromkeys(arr))  #function\n",
    "    run.sort()\n",
    "    print(run[-2])"
   ]
  },
  {
   "cell_type": "markdown",
   "id": "a033ca75-f40a-4bdb-be09-621a83f833d0",
   "metadata": {},
   "source": [
    "### 3. Nested Lists"
   ]
  },
  {
   "cell_type": "code",
   "execution_count": 13,
   "id": "bf379f01-7631-47bf-a3ff-3008be7f3954",
   "metadata": {},
   "outputs": [
    {
     "name": "stdin",
     "output_type": "stream",
     "text": [
      " 5\n",
      " Harry\n",
      " 37.21\n",
      " Berry\n",
      " 37.21\n",
      " Tina\n",
      " 27.2\n",
      " Akriti\n",
      " 41\n",
      " Harsh\n",
      " 39\n"
     ]
    },
    {
     "name": "stdout",
     "output_type": "stream",
     "text": [
      "Berry\n",
      "Harry\n"
     ]
    }
   ],
   "source": [
    "#Nested Lists_LAMR\n",
    "if __name__ == '__main__':\n",
    "    num_students = int(input())\n",
    "    students_scores = []\n",
    "\n",
    "    for _ in range(num_students):\n",
    "        name = input()\n",
    "        score = float(input())\n",
    "        students_scores.append([name, score])\n",
    "\n",
    "    unique_scores = sorted(set(score for _, score in students_scores))\n",
    "\n",
    "    if len(unique_scores) > 1:\n",
    "        second_lowest_score = unique_scores[1]\n",
    "        second_lowest_students = sorted(name for name, score in students_scores if score == second_lowest_score)\n",
    "\n",
    "        for name in second_lowest_students:\n",
    "            print(name)\n",
    "    else:\n",
    "        print(\"Missing scores to determine second lowest.\")\n"
   ]
  },
  {
   "cell_type": "markdown",
   "id": "3fbe8d99-c235-4525-9ef4-bf9c3bae196d",
   "metadata": {},
   "source": [
    "### 4. Finding the percentaje"
   ]
  },
  {
   "cell_type": "code",
   "execution_count": 21,
   "id": "90170c39-74ed-4ffb-8ab6-8a8ed176bdd6",
   "metadata": {},
   "outputs": [
    {
     "name": "stdin",
     "output_type": "stream",
     "text": [
      " 2\n",
      " Harsh 25 26.5 28\n",
      " Anurag 26 28 30\n",
      " Harsh\n"
     ]
    },
    {
     "name": "stdout",
     "output_type": "stream",
     "text": [
      "26.50\n"
     ]
    }
   ],
   "source": [
    "#Finding the percentaje_LAMR\n",
    "\n",
    "if __name__ == '__main__':\n",
    "    n = int(input())\n",
    "    student_marks = {}\n",
    "    for _ in range(n):\n",
    "        name, *line = input().split()\n",
    "        scores = list(map(float, line))\n",
    "        student_marks[name] = scores\n",
    "    query_name = input()\n",
    "    \n",
    "    print(\"%.2f\" % (sum(student_marks[query_name]) / len(student_marks[query_name])))"
   ]
  },
  {
   "cell_type": "markdown",
   "id": "66dc485b-03ef-4468-ac89-fc4a14bb2cc9",
   "metadata": {},
   "source": [
    "### 5. Lists"
   ]
  },
  {
   "cell_type": "code",
   "execution_count": 1,
   "id": "400ac33a-9857-483b-93ae-ce8875bc588f",
   "metadata": {},
   "outputs": [
    {
     "name": "stdin",
     "output_type": "stream",
     "text": [
      " 12\n",
      " insert 0 5\n",
      " insert 1 10\n",
      " insert 0 6\n",
      " print\n"
     ]
    },
    {
     "name": "stdout",
     "output_type": "stream",
     "text": [
      "[6, 5, 10]\n"
     ]
    },
    {
     "name": "stdin",
     "output_type": "stream",
     "text": [
      " remove 6\n",
      " append 9\n",
      " append 1\n",
      " sort\n",
      " print\n"
     ]
    },
    {
     "name": "stdout",
     "output_type": "stream",
     "text": [
      "[1, 5, 9, 10]\n"
     ]
    },
    {
     "name": "stdin",
     "output_type": "stream",
     "text": [
      " pop\n",
      " reverse\n",
      " print\n"
     ]
    },
    {
     "name": "stdout",
     "output_type": "stream",
     "text": [
      "[9, 5, 1]\n"
     ]
    }
   ],
   "source": [
    "#Lists_LAMR\n",
    "if __name__ == '__main__':\n",
    "    N = int(input())\n",
    "    \n",
    "    \n",
    "    list_commands = {\n",
    "        \"insert\": lambda i, e: l.insert(i, e),\n",
    "        \"print\": lambda: print(l),\n",
    "        \"remove\": lambda e: l.remove(e),\n",
    "        \"append\": lambda e: l.append(e),\n",
    "        \"sort\": lambda: l.sort(),\n",
    "        \"pop\": lambda: l.pop(),\n",
    "        \"reverse\": lambda: l.reverse()\n",
    "    }\n",
    "\n",
    "    l = []\n",
    "    \n",
    "    for _ in range(N):\n",
    "        command, *args = input().split()\n",
    "        if command in list_commands:\n",
    "            list_commands[command](*map(int, args))"
   ]
  },
  {
   "cell_type": "markdown",
   "id": "0cc7b77d-f7a0-4a55-a74e-04d536c66d0a",
   "metadata": {},
   "source": [
    "### 6. Tuples"
   ]
  },
  {
   "cell_type": "code",
   "execution_count": 31,
   "id": "8e13da06-74b0-4615-95e8-5936e11f50e9",
   "metadata": {},
   "outputs": [
    {
     "name": "stdin",
     "output_type": "stream",
     "text": [
      " 2\n",
      " 1 2\n"
     ]
    },
    {
     "name": "stdout",
     "output_type": "stream",
     "text": [
      "-3550055125485641917\n"
     ]
    }
   ],
   "source": [
    "#Tuples_LAMR\n",
    "if __name__ == '__main__':\n",
    "    n = int(input())\n",
    "    integer_list = tuple(map(int, input().split()))\n",
    "    print(hash(integer_list))\n"
   ]
  },
  {
   "cell_type": "markdown",
   "id": "88e5a880-492c-413e-8842-42d406f29a92",
   "metadata": {},
   "source": [
    " ## **Strings** Total 14"
   ]
  },
  {
   "cell_type": "markdown",
   "id": "954f2961-f112-486b-a27a-8694fa88e518",
   "metadata": {},
   "source": [
    "### 1. sWAP cASE"
   ]
  },
  {
   "cell_type": "code",
   "execution_count": 70,
   "id": "b27b375e-c500-4dcb-99d8-a8d4459fbce2",
   "metadata": {},
   "outputs": [],
   "source": [
    "#sawp case_LAMR\n",
    "\n",
    "def swap_case(s):\n",
    "    \n",
    "    convert=''.join([s[i].lower() if s[i].isupper() else s[i].upper()  \n",
    "    for i in range(len(str(s)))])\n",
    "    return convert    \n",
    "  \n"
   ]
  },
  {
   "cell_type": "markdown",
   "id": "fb9d2019-8976-40c7-9465-6479f4688067",
   "metadata": {},
   "source": [
    "### 2. String Split and Join"
   ]
  },
  {
   "cell_type": "code",
   "execution_count": 72,
   "id": "e75c3521-bd2f-42d6-ba1c-ce99f039e9c0",
   "metadata": {},
   "outputs": [
    {
     "name": "stdin",
     "output_type": "stream",
     "text": [
      " this is a string\n"
     ]
    },
    {
     "name": "stdout",
     "output_type": "stream",
     "text": [
      "this-is-a-string\n"
     ]
    }
   ],
   "source": [
    "#String split and join_LAMR\n",
    "\n",
    "def split_and_join(line):\n",
    "    # write your code here\n",
    "    line = line.split(\" \")\n",
    "    line = \"-\".join(line)\n",
    "    return(line)\n",
    "\n",
    "    \n",
    "\n",
    "if __name__ == '__main__':\n",
    "    line = input()\n",
    "    result = split_and_join(line)\n",
    "    print(result)\n"
   ]
  },
  {
   "cell_type": "markdown",
   "id": "9f2d9c5f-a317-4870-ab1a-f875d20aa896",
   "metadata": {},
   "source": [
    "### 3. What's Your Name?"
   ]
  },
  {
   "cell_type": "code",
   "execution_count": 74,
   "id": "b945f997-9e5f-45e6-b49f-6318c366dc91",
   "metadata": {},
   "outputs": [],
   "source": [
    "#What's Your Name?_LAMR\n",
    "# Complete the 'print_full_name' function below.\n",
    "#\n",
    "# The function is expected to return a STRING.\n",
    "# The function accepts following parameters:\n",
    "#  1. STRING first\n",
    "#  2. STRING last\n",
    "#\n",
    "\n",
    "def print_full_name(first, last):\n",
    "    # Write your code here\n",
    "    print(f\"Hello {first} {last}! You just delved into python.\")\n",
    "\n"
   ]
  },
  {
   "cell_type": "markdown",
   "id": "803313f5-f1fd-4b5a-bf14-d0342cfd9d1b",
   "metadata": {},
   "source": [
    "### 4. Mutations"
   ]
  },
  {
   "cell_type": "code",
   "execution_count": 76,
   "id": "aa9fb05c-e957-4411-8b0c-cf5e5d366fc5",
   "metadata": {},
   "outputs": [],
   "source": [
    "#mutations_LAMR\n",
    "\n",
    "def mutate_string(string, position, character):\n",
    "    \n",
    "    mutate = list(string)\n",
    "    mutate[position] = character\n",
    "    return \"\".join(mutate)\n",
    "    "
   ]
  },
  {
   "cell_type": "markdown",
   "id": "0f194538-e079-44d7-a2e1-271c1d7781b8",
   "metadata": {},
   "source": [
    "### 5. Find a string"
   ]
  },
  {
   "cell_type": "code",
   "execution_count": 78,
   "id": "b11f3f1d-e0cf-4cbb-9e1e-4502f2b6f3f4",
   "metadata": {},
   "outputs": [],
   "source": [
    "def count_substring(string, sub_string):\n",
    "    counting = 0\n",
    "    for i in range(len(string)):\n",
    "        if string[i:i + len(sub_string)] == sub_string:\n",
    "            counting = counting +1\n",
    "    return counting\n",
    "\n"
   ]
  },
  {
   "cell_type": "markdown",
   "id": "993bd479-ad99-48dc-a14d-6e560983f6e9",
   "metadata": {},
   "source": [
    "### 6.String Validators"
   ]
  },
  {
   "cell_type": "code",
   "execution_count": 80,
   "id": "b8d0e755-1b08-4c4e-ad03-5fe11f593533",
   "metadata": {},
   "outputs": [
    {
     "name": "stdin",
     "output_type": "stream",
     "text": [
      " qA2\n"
     ]
    },
    {
     "name": "stdout",
     "output_type": "stream",
     "text": [
      "True\n",
      "True\n",
      "True\n",
      "True\n",
      "True\n"
     ]
    }
   ],
   "source": [
    "#validator_LAMR\n",
    "\n",
    "if __name__ == '__main__':\n",
    "    s = input()\n",
    "    check_boolean = [False, False, False, False, False]\n",
    "    \n",
    "    for i in s:\n",
    "        if i.isalnum():\n",
    "            check_boolean[0] = True\n",
    "        if i.isalpha():\n",
    "            check_boolean[1] = True\n",
    "        if i.isdigit():\n",
    "            check_boolean[2] = True\n",
    "        if i.islower():\n",
    "            check_boolean[3] = True\n",
    "        if i.isupper():\n",
    "            check_boolean[4] = True    \n",
    "        \n",
    "    for x in check_boolean:\n",
    "        print(x)\n",
    "\n"
   ]
  },
  {
   "cell_type": "markdown",
   "id": "05625319-118b-4aaf-afc9-dc73ba025509",
   "metadata": {},
   "source": [
    "### 7. Text Alignment"
   ]
  },
  {
   "cell_type": "code",
   "execution_count": 82,
   "id": "a8fca39d-a8e0-4fd7-8c47-b88b256bd13d",
   "metadata": {},
   "outputs": [
    {
     "name": "stdin",
     "output_type": "stream",
     "text": [
      " 5\n"
     ]
    },
    {
     "name": "stdout",
     "output_type": "stream",
     "text": [
      "    H     \n",
      "   HHH    \n",
      "  HHHHH   \n",
      " HHHHHHH  \n",
      "HHHHHHHHH \n",
      "  HHHHH               HHHHH   \n",
      "  HHHHH               HHHHH   \n",
      "  HHHHH               HHHHH   \n",
      "  HHHHH               HHHHH   \n",
      "  HHHHH               HHHHH   \n",
      "  HHHHH               HHHHH   \n",
      "  HHHHHHHHHHHHHHHHHHHHHHHHH   \n",
      "  HHHHHHHHHHHHHHHHHHHHHHHHH   \n",
      "  HHHHHHHHHHHHHHHHHHHHHHHHH   \n",
      "  HHHHH               HHHHH   \n",
      "  HHHHH               HHHHH   \n",
      "  HHHHH               HHHHH   \n",
      "  HHHHH               HHHHH   \n",
      "  HHHHH               HHHHH   \n",
      "  HHHHH               HHHHH   \n",
      "                    HHHHHHHHH \n",
      "                     HHHHHHH  \n",
      "                      HHHHH   \n",
      "                       HHH    \n",
      "                        H     \n"
     ]
    }
   ],
   "source": [
    "#Text Alignment_LAMR\n",
    "\n",
    "thic_value = int(input())\n",
    "for i in range(thic_value):\n",
    "    string = 'H'*(i*2+1)\n",
    "    print(string.center(thic_value*2, ' '))\n",
    "\n",
    "for i in range(thic_value + 1):\n",
    "    string = 'H'*thic_value + '   '*thic_value + 'H'*thic_value\n",
    "    print(string.center(thic_value*6, ' '))\n",
    "    \n",
    "\n",
    "for i in range(int((thic_value + 1)/2)):\n",
    "    string = 'H'*thic_value*5      \n",
    "    print(string.center(thic_value*6, ' '))\n",
    "    \n",
    "for i in range(thic_value + 1):\n",
    "    string = 'H'*thic_value + '   '*thic_value + 'H'*thic_value\n",
    "    print(string.center(thic_value*6, ' '))\n",
    "    \n",
    "for i in range(thic_value):\n",
    "    string = 'H'*((thic_value - i - 1)*2 + 1)\n",
    "    print(' '*thic_value*4 + string.center(thic_value*2, ' '))\n"
   ]
  },
  {
   "cell_type": "markdown",
   "id": "25d586fd-215b-4099-a136-8f2ac79d7f80",
   "metadata": {},
   "source": [
    "### 8. Text Wrap"
   ]
  },
  {
   "cell_type": "code",
   "execution_count": 84,
   "id": "d1345dd9-f644-491c-aff9-ea57ccc16d21",
   "metadata": {},
   "outputs": [],
   "source": [
    "\n",
    "\n",
    "def wrap(string, max_width):\n",
    "    i= 1\n",
    "    new_str = []\n",
    "    for str in string:\n",
    "        new_str.append(str)\n",
    "        if i % max_width == 0:\n",
    "            new_str.append('\\n')\n",
    "        i +=1\n",
    "    return ''.join(new_str)\n",
    "    \n",
    "    \n",
    "    return\n",
    "\n"
   ]
  },
  {
   "cell_type": "markdown",
   "id": "802aaefd-bff5-487d-93f6-39eb84f94e31",
   "metadata": {},
   "source": [
    "### 9. Designer Door Mat"
   ]
  },
  {
   "cell_type": "code",
   "execution_count": 87,
   "id": "5ed169ca-d0a8-46f3-8b0b-35d45fdbc2d7",
   "metadata": {},
   "outputs": [
    {
     "name": "stdin",
     "output_type": "stream",
     "text": [
      " 7 21\n"
     ]
    },
    {
     "name": "stdout",
     "output_type": "stream",
     "text": [
      "---------.|.---------\n",
      "------.|..|..|.------\n",
      "---.|..|..|..|..|.---\n",
      "-------WELCOME-------\n",
      "---.|..|..|..|..|.---\n",
      "------.|..|..|.------\n",
      "---------.|.---------\n"
     ]
    }
   ],
   "source": [
    "## Enter your code here. Read input from STDIN. Print output to STDOUT\n",
    "n,m=map(int,input().split())\n",
    "\n",
    "i=0\n",
    "for i in range(n):\n",
    "    if i<((n-1)/2):\n",
    "        print(((\".\"+\"|\"+\".\")*(2*i+1)).center(m,\"-\"))\n",
    "    \n",
    "    elif i==((n-1)/2):\n",
    "        print(\"WELCOME\".center(m,\"-\"))\n",
    "        \n",
    "    else:\n",
    "        print(((\".\"+\"|\"+\".\")*(2*((n-1)-i)+1)).center(m,\"-\"))\n"
   ]
  },
  {
   "cell_type": "markdown",
   "id": "9937a696-177e-41da-b798-95e2952f93c4",
   "metadata": {},
   "source": [
    "### 10. String Formatting"
   ]
  },
  {
   "cell_type": "code",
   "execution_count": 89,
   "id": "ea957303-09d1-4a5e-afe9-c717a3c0738f",
   "metadata": {},
   "outputs": [],
   "source": [
    "def print_formatted(number):\n",
    "    width=len(bin(number))-2\n",
    "    for i in range(1, number+1):\n",
    "        print(f'{i:{width}} {i:{width}o} {i:{width}X} {i:{width}b}')\n",
    "\n"
   ]
  },
  {
   "cell_type": "markdown",
   "id": "0ffbf485-4c66-41c6-b1da-a29b0fef2619",
   "metadata": {},
   "source": [
    "### 11.Alphabet Rango"
   ]
  },
  {
   "cell_type": "code",
   "execution_count": 91,
   "id": "b5c1fdd7-09bd-42ce-a6a8-48d538878303",
   "metadata": {},
   "outputs": [],
   "source": [
    "def make_line(number_of_letters, size):\n",
    "    x = 97 + size - number_of_letters\n",
    "    line = \"\"\n",
    "    for i in range(number_of_letters -1, -1, -1):\n",
    "        line += chr(x+i) + \"-\"\n",
    "    for i in range(1, number_of_letters):\n",
    "        line += chr(x+i) + \"-\"\n",
    "    return line[:-1]\n",
    "\n",
    "def print_rangoli(size):\n",
    "    m= ((size*2)-1) + (size-1) * 2\n",
    "    for i in range(1, size+1):\n",
    "        pattern = make_line(i, size)\n",
    "        print(pattern.center(m, \"-\"))\n",
    "    for j in range(size -1, 0, -1):\n",
    "        pattern2 = make_line(j, size)\n",
    "        print(pattern2.center(m, \"-\"))\n",
    "        \n"
   ]
  },
  {
   "cell_type": "markdown",
   "id": "23428692-6c6c-42f3-9a22-544bb7c349d0",
   "metadata": {},
   "source": [
    "### 12. Capitalize!"
   ]
  },
  {
   "cell_type": "code",
   "execution_count": 93,
   "id": "95a2c8e6-0149-4cae-9bbc-cc000da7d243",
   "metadata": {},
   "outputs": [],
   "source": [
    "\n",
    "# Complete the solve function below.\n",
    "def solve(s):\n",
    "    s = s.split(' ')\n",
    "    for i in range(len(s)):\n",
    "        s[i] = s[i].capitalize()\n",
    "    return ' '.join(s)\n",
    "    \n"
   ]
  },
  {
   "cell_type": "markdown",
   "id": "3312a26c-348d-4c12-95e5-4c83b0f96ad4",
   "metadata": {},
   "source": [
    "### 13. The Minion Game"
   ]
  },
  {
   "cell_type": "markdown",
   "id": "abcd766a-ab7f-423e-b8e8-30cbb8173e3f",
   "metadata": {},
   "source": [
    "### 14. Merge the Tools!"
   ]
  },
  {
   "cell_type": "markdown",
   "id": "7b0dc383-1714-4403-a3fa-e47863127b3b",
   "metadata": {},
   "source": [
    " ## **Sets** Total 13"
   ]
  },
  {
   "cell_type": "markdown",
   "id": "bde307dc-c63e-4505-962e-d327aaa1f0df",
   "metadata": {},
   "source": [
    " ## **Collections** Total 8"
   ]
  },
  {
   "cell_type": "markdown",
   "id": "c793d163-36da-43e5-a49b-91d894238885",
   "metadata": {},
   "source": [
    "### 1. collections.counter()"
   ]
  },
  {
   "cell_type": "code",
   "execution_count": 5,
   "id": "04693c87-0033-480f-b11e-823460872782",
   "metadata": {},
   "outputs": [
    {
     "name": "stdin",
     "output_type": "stream",
     "text": [
      " 10\n",
      " 2 3 4 5\n",
      " 6\n",
      " 5 20\n",
      " 3 10\n",
      " 1 15\n",
      " 5 20\n",
      " 4 100\n",
      " 2 200\n"
     ]
    },
    {
     "name": "stdout",
     "output_type": "stream",
     "text": [
      "330\n"
     ]
    }
   ],
   "source": [
    "from collections import Counter\n",
    "\n",
    "nun_shoes = int(input())\n",
    "shoe_sizes = Counter(map(int, input().split()))\n",
    "N = int(input())\n",
    "total = 0\n",
    "\n",
    "for i in range(N):\n",
    "    size, price = map(int, input().split())\n",
    "    if shoe_sizes.get(size, 0) > 0:\n",
    "        shoe_sizes[size] -= 1\n",
    "        total += price\n",
    "        if shoe_sizes[size] == 0:\n",
    "            del shoe_sizes[size]\n",
    "print(total)"
   ]
  },
  {
   "cell_type": "markdown",
   "id": "ec53bc69-efd7-478e-bd79-6ce4122af576",
   "metadata": {},
   "source": [
    " ## **Data and Time** Total 2"
   ]
  },
  {
   "cell_type": "markdown",
   "id": "0dcc929c-befd-46f5-8743-f673f3594868",
   "metadata": {},
   "source": [
    " ## **Exceptions** Total 1"
   ]
  },
  {
   "cell_type": "markdown",
   "id": "da8d210c-0a4c-4c7b-8a9c-915e5d4f8be2",
   "metadata": {},
   "source": [
    " ## **Built-ins** Total 3"
   ]
  },
  {
   "cell_type": "markdown",
   "id": "4518a1cd-ad7b-4f22-b34c-af9a5826391d",
   "metadata": {},
   "source": [
    " ## **Python Functionals** Total 1"
   ]
  },
  {
   "cell_type": "markdown",
   "id": "3063239b-1518-4420-9286-098618dac339",
   "metadata": {},
   "source": [
    " ## **Regex and Parsing challenges** Total 17"
   ]
  },
  {
   "cell_type": "markdown",
   "id": "d09d0976-a2ac-44ee-9e5d-82662c1f8bbf",
   "metadata": {},
   "source": [
    " ## **XML** Total 2"
   ]
  },
  {
   "cell_type": "markdown",
   "id": "90d651b0-5bde-42ce-b792-8ab6f57e9592",
   "metadata": {},
   "source": [
    " ## **Closures and Decorations** Total 2"
   ]
  },
  {
   "cell_type": "markdown",
   "id": "f7fac7f1-44c7-4298-9901-75c887b96cc7",
   "metadata": {},
   "source": [
    " ## **Numpy** Total 15"
   ]
  },
  {
   "cell_type": "code",
   "execution_count": null,
   "id": "5a793c70-a0a3-4609-b622-2e4c58ac2da4",
   "metadata": {},
   "outputs": [],
   "source": []
  }
 ],
 "metadata": {
  "kernelspec": {
   "display_name": "Python 3 (ipykernel)",
   "language": "python",
   "name": "python3"
  },
  "language_info": {
   "codemirror_mode": {
    "name": "ipython",
    "version": 3
   },
   "file_extension": ".py",
   "mimetype": "text/x-python",
   "name": "python",
   "nbconvert_exporter": "python",
   "pygments_lexer": "ipython3",
   "version": "3.12.4"
  }
 },
 "nbformat": 4,
 "nbformat_minor": 5
}
